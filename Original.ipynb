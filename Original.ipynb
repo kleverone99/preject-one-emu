{
 "cells": [
  {
   "cell_type": "code",
   "execution_count": 1,
   "id": "personal-arlington",
   "metadata": {},
   "outputs": [],
   "source": [
    "import pandas as pd\n",
    "import datetime\n",
    "import matplotlib.pyplot as plt\n",
    "plt.style.use('seaborn-whitegrid')\n",
    "import numpy as np\n",
    "%matplotlib inline\n",
    "import scipy.stats as stats"
   ]
  },
  {
   "cell_type": "code",
   "execution_count": 2,
   "id": "governing-agency",
   "metadata": {},
   "outputs": [],
   "source": [
    "bitcoin_price = pd.read_csv(\"Bitcoin Price history.csv\")"
   ]
  },
  {
   "cell_type": "code",
   "execution_count": 3,
   "id": "intense-offense",
   "metadata": {},
   "outputs": [],
   "source": [
    "dominion_stock = pd.read_csv(\"Dominion.csv\")"
   ]
  },
  {
   "cell_type": "code",
   "execution_count": 4,
   "id": "upset-egypt",
   "metadata": {},
   "outputs": [],
   "source": [
    "duke_stock = pd.read_csv(\"DUK.csv\")"
   ]
  },
  {
   "cell_type": "code",
   "execution_count": 5,
   "id": "paperback-australian",
   "metadata": {},
   "outputs": [],
   "source": [
    "pcg_stock = pd.read_csv(\"PCG.csv\")"
   ]
  },
  {
   "cell_type": "code",
   "execution_count": 6,
   "id": "silent-hazard",
   "metadata": {},
   "outputs": [],
   "source": [
    "tesla_stock = pd.read_csv(\"TSLA.csv\")"
   ]
  },
  {
   "cell_type": "code",
   "execution_count": 7,
   "id": "apparent-design",
   "metadata": {},
   "outputs": [],
   "source": [
    "dominion_stock = dominion_stock.rename(columns = {\"Close\" : \"Dom_Price\", \"Volume\" : \"Dom_Vol\"})"
   ]
  },
  {
   "cell_type": "code",
   "execution_count": 8,
   "id": "played-press",
   "metadata": {},
   "outputs": [],
   "source": [
    "dominion_stock['Dom_Vol'] = dominion_stock['Dom_Vol'].astype('int64')"
   ]
  },
  {
   "cell_type": "code",
   "execution_count": 9,
   "id": "assigned-catalog",
   "metadata": {},
   "outputs": [],
   "source": [
    "dominion_stock = dominion_stock[['Date', 'Dom_Price', 'Dom_Vol']]"
   ]
  },
  {
   "cell_type": "code",
   "execution_count": 10,
   "id": "thousand-caution",
   "metadata": {},
   "outputs": [
    {
     "data": {
      "text/html": [
       "<div>\n",
       "<style scoped>\n",
       "    .dataframe tbody tr th:only-of-type {\n",
       "        vertical-align: middle;\n",
       "    }\n",
       "\n",
       "    .dataframe tbody tr th {\n",
       "        vertical-align: top;\n",
       "    }\n",
       "\n",
       "    .dataframe thead th {\n",
       "        text-align: right;\n",
       "    }\n",
       "</style>\n",
       "<table border=\"1\" class=\"dataframe\">\n",
       "  <thead>\n",
       "    <tr style=\"text-align: right;\">\n",
       "      <th></th>\n",
       "      <th>Date</th>\n",
       "      <th>Dom_Price</th>\n",
       "      <th>Dom_Vol</th>\n",
       "    </tr>\n",
       "  </thead>\n",
       "  <tbody>\n",
       "    <tr>\n",
       "      <th>0</th>\n",
       "      <td>7/19/2010</td>\n",
       "      <td>41.40</td>\n",
       "      <td>2586400</td>\n",
       "    </tr>\n",
       "    <tr>\n",
       "      <th>1</th>\n",
       "      <td>7/20/2010</td>\n",
       "      <td>41.96</td>\n",
       "      <td>3489900</td>\n",
       "    </tr>\n",
       "    <tr>\n",
       "      <th>2</th>\n",
       "      <td>7/21/2010</td>\n",
       "      <td>41.26</td>\n",
       "      <td>2677800</td>\n",
       "    </tr>\n",
       "    <tr>\n",
       "      <th>3</th>\n",
       "      <td>7/22/2010</td>\n",
       "      <td>42.22</td>\n",
       "      <td>3617700</td>\n",
       "    </tr>\n",
       "    <tr>\n",
       "      <th>4</th>\n",
       "      <td>7/23/2010</td>\n",
       "      <td>42.41</td>\n",
       "      <td>3072100</td>\n",
       "    </tr>\n",
       "    <tr>\n",
       "      <th>...</th>\n",
       "      <td>...</td>\n",
       "      <td>...</td>\n",
       "      <td>...</td>\n",
       "    </tr>\n",
       "    <tr>\n",
       "      <th>2651</th>\n",
       "      <td>1/28/2021</td>\n",
       "      <td>72.67</td>\n",
       "      <td>3124000</td>\n",
       "    </tr>\n",
       "    <tr>\n",
       "      <th>2652</th>\n",
       "      <td>1/29/2021</td>\n",
       "      <td>72.89</td>\n",
       "      <td>4330700</td>\n",
       "    </tr>\n",
       "    <tr>\n",
       "      <th>2653</th>\n",
       "      <td>2/1/2021</td>\n",
       "      <td>72.68</td>\n",
       "      <td>3480100</td>\n",
       "    </tr>\n",
       "    <tr>\n",
       "      <th>2654</th>\n",
       "      <td>2/2/2021</td>\n",
       "      <td>72.77</td>\n",
       "      <td>3922300</td>\n",
       "    </tr>\n",
       "    <tr>\n",
       "      <th>2655</th>\n",
       "      <td>2/3/2021</td>\n",
       "      <td>72.57</td>\n",
       "      <td>3054700</td>\n",
       "    </tr>\n",
       "  </tbody>\n",
       "</table>\n",
       "<p>2656 rows × 3 columns</p>\n",
       "</div>"
      ],
      "text/plain": [
       "           Date  Dom_Price  Dom_Vol\n",
       "0     7/19/2010      41.40  2586400\n",
       "1     7/20/2010      41.96  3489900\n",
       "2     7/21/2010      41.26  2677800\n",
       "3     7/22/2010      42.22  3617700\n",
       "4     7/23/2010      42.41  3072100\n",
       "...         ...        ...      ...\n",
       "2651  1/28/2021      72.67  3124000\n",
       "2652  1/29/2021      72.89  4330700\n",
       "2653   2/1/2021      72.68  3480100\n",
       "2654   2/2/2021      72.77  3922300\n",
       "2655   2/3/2021      72.57  3054700\n",
       "\n",
       "[2656 rows x 3 columns]"
      ]
     },
     "execution_count": 10,
     "metadata": {},
     "output_type": "execute_result"
    }
   ],
   "source": [
    "dominion_stock"
   ]
  },
  {
   "cell_type": "code",
   "execution_count": 11,
   "id": "satellite-integer",
   "metadata": {},
   "outputs": [],
   "source": [
    "duke_stock = duke_stock.rename(columns = {\"Close\" : \"Duke_Price\", \"Volume\" : \"Duke_Vol\"})"
   ]
  },
  {
   "cell_type": "code",
   "execution_count": 12,
   "id": "interpreted-translation",
   "metadata": {},
   "outputs": [
    {
     "data": {
      "text/html": [
       "<div>\n",
       "<style scoped>\n",
       "    .dataframe tbody tr th:only-of-type {\n",
       "        vertical-align: middle;\n",
       "    }\n",
       "\n",
       "    .dataframe tbody tr th {\n",
       "        vertical-align: top;\n",
       "    }\n",
       "\n",
       "    .dataframe thead th {\n",
       "        text-align: right;\n",
       "    }\n",
       "</style>\n",
       "<table border=\"1\" class=\"dataframe\">\n",
       "  <thead>\n",
       "    <tr style=\"text-align: right;\">\n",
       "      <th></th>\n",
       "      <th>Date</th>\n",
       "      <th>Duke_Price</th>\n",
       "      <th>Duke_Vol</th>\n",
       "    </tr>\n",
       "  </thead>\n",
       "  <tbody>\n",
       "    <tr>\n",
       "      <th>0</th>\n",
       "      <td>7/19/2010</td>\n",
       "      <td>51.51</td>\n",
       "      <td>1944567.0</td>\n",
       "    </tr>\n",
       "    <tr>\n",
       "      <th>1</th>\n",
       "      <td>7/20/2010</td>\n",
       "      <td>51.42</td>\n",
       "      <td>2148333.0</td>\n",
       "    </tr>\n",
       "    <tr>\n",
       "      <th>2</th>\n",
       "      <td>7/21/2010</td>\n",
       "      <td>50.70</td>\n",
       "      <td>2786167.0</td>\n",
       "    </tr>\n",
       "    <tr>\n",
       "      <th>3</th>\n",
       "      <td>7/22/2010</td>\n",
       "      <td>51.30</td>\n",
       "      <td>3248500.0</td>\n",
       "    </tr>\n",
       "    <tr>\n",
       "      <th>4</th>\n",
       "      <td>7/23/2010</td>\n",
       "      <td>50.82</td>\n",
       "      <td>6587233.0</td>\n",
       "    </tr>\n",
       "    <tr>\n",
       "      <th>...</th>\n",
       "      <td>...</td>\n",
       "      <td>...</td>\n",
       "      <td>...</td>\n",
       "    </tr>\n",
       "    <tr>\n",
       "      <th>2651</th>\n",
       "      <td>1/28/2021</td>\n",
       "      <td>91.48</td>\n",
       "      <td>2001000.0</td>\n",
       "    </tr>\n",
       "    <tr>\n",
       "      <th>2652</th>\n",
       "      <td>1/29/2021</td>\n",
       "      <td>94.00</td>\n",
       "      <td>4967400.0</td>\n",
       "    </tr>\n",
       "    <tr>\n",
       "      <th>2653</th>\n",
       "      <td>2/1/2021</td>\n",
       "      <td>93.16</td>\n",
       "      <td>2570900.0</td>\n",
       "    </tr>\n",
       "    <tr>\n",
       "      <th>2654</th>\n",
       "      <td>2/2/2021</td>\n",
       "      <td>93.10</td>\n",
       "      <td>2240700.0</td>\n",
       "    </tr>\n",
       "    <tr>\n",
       "      <th>2655</th>\n",
       "      <td>2/3/2021</td>\n",
       "      <td>93.39</td>\n",
       "      <td>2577200.0</td>\n",
       "    </tr>\n",
       "  </tbody>\n",
       "</table>\n",
       "<p>2656 rows × 3 columns</p>\n",
       "</div>"
      ],
      "text/plain": [
       "           Date  Duke_Price   Duke_Vol\n",
       "0     7/19/2010       51.51  1944567.0\n",
       "1     7/20/2010       51.42  2148333.0\n",
       "2     7/21/2010       50.70  2786167.0\n",
       "3     7/22/2010       51.30  3248500.0\n",
       "4     7/23/2010       50.82  6587233.0\n",
       "...         ...         ...        ...\n",
       "2651  1/28/2021       91.48  2001000.0\n",
       "2652  1/29/2021       94.00  4967400.0\n",
       "2653   2/1/2021       93.16  2570900.0\n",
       "2654   2/2/2021       93.10  2240700.0\n",
       "2655   2/3/2021       93.39  2577200.0\n",
       "\n",
       "[2656 rows x 3 columns]"
      ]
     },
     "execution_count": 12,
     "metadata": {},
     "output_type": "execute_result"
    }
   ],
   "source": [
    "duke_stock"
   ]
  },
  {
   "cell_type": "code",
   "execution_count": 13,
   "id": "talented-advertiser",
   "metadata": {},
   "outputs": [],
   "source": [
    "duke_stock = duke_stock[['Date', 'Duke_Price', 'Duke_Vol']]"
   ]
  },
  {
   "cell_type": "code",
   "execution_count": 14,
   "id": "progressive-relationship",
   "metadata": {},
   "outputs": [],
   "source": [
    "duke_stock['Duke_Vol'] = duke_stock['Duke_Vol'].astype('int64')"
   ]
  },
  {
   "cell_type": "code",
   "execution_count": 15,
   "id": "formed-phenomenon",
   "metadata": {},
   "outputs": [
    {
     "name": "stdout",
     "output_type": "stream",
     "text": [
      "<class 'pandas.core.frame.DataFrame'>\n",
      "RangeIndex: 2656 entries, 0 to 2655\n",
      "Data columns (total 3 columns):\n",
      " #   Column      Non-Null Count  Dtype  \n",
      "---  ------      --------------  -----  \n",
      " 0   Date        2656 non-null   object \n",
      " 1   Duke_Price  2656 non-null   float64\n",
      " 2   Duke_Vol    2656 non-null   int64  \n",
      "dtypes: float64(1), int64(1), object(1)\n",
      "memory usage: 62.4+ KB\n"
     ]
    }
   ],
   "source": [
    "duke_stock.info()"
   ]
  },
  {
   "cell_type": "code",
   "execution_count": 16,
   "id": "reduced-geneva",
   "metadata": {},
   "outputs": [],
   "source": [
    "pcg_stock.head()\n",
    "pcg_stock = pcg_stock[['Date', 'Close', 'Volume']]"
   ]
  },
  {
   "cell_type": "code",
   "execution_count": 17,
   "id": "terminal-knowing",
   "metadata": {},
   "outputs": [],
   "source": [
    "pcg_stock = pcg_stock.rename(columns = {\"Close\": \"PCG_Price\", \"Volume\" : \"PCG_Volume\"})"
   ]
  },
  {
   "cell_type": "code",
   "execution_count": 18,
   "id": "liked-taylor",
   "metadata": {},
   "outputs": [],
   "source": [
    "pcg_stock['PCG_Volume'] = pcg_stock['PCG_Volume'].astype('int64')"
   ]
  },
  {
   "cell_type": "code",
   "execution_count": 19,
   "id": "final-antarctica",
   "metadata": {},
   "outputs": [
    {
     "name": "stdout",
     "output_type": "stream",
     "text": [
      "<class 'pandas.core.frame.DataFrame'>\n",
      "RangeIndex: 2656 entries, 0 to 2655\n",
      "Data columns (total 3 columns):\n",
      " #   Column      Non-Null Count  Dtype  \n",
      "---  ------      --------------  -----  \n",
      " 0   Date        2656 non-null   object \n",
      " 1   PCG_Price   2656 non-null   float64\n",
      " 2   PCG_Volume  2656 non-null   int64  \n",
      "dtypes: float64(1), int64(1), object(1)\n",
      "memory usage: 62.4+ KB\n"
     ]
    }
   ],
   "source": [
    "pcg_stock.info()"
   ]
  },
  {
   "cell_type": "code",
   "execution_count": 20,
   "id": "secure-irrigation",
   "metadata": {},
   "outputs": [
    {
     "name": "stdout",
     "output_type": "stream",
     "text": [
      "<class 'pandas.core.frame.DataFrame'>\n",
      "RangeIndex: 2656 entries, 0 to 2655\n",
      "Data columns (total 3 columns):\n",
      " #   Column      Non-Null Count  Dtype  \n",
      "---  ------      --------------  -----  \n",
      " 0   Date        2656 non-null   object \n",
      " 1   PCG_Price   2656 non-null   float64\n",
      " 2   PCG_Volume  2656 non-null   int64  \n",
      "dtypes: float64(1), int64(1), object(1)\n",
      "memory usage: 62.4+ KB\n"
     ]
    }
   ],
   "source": [
    "pcg_stock.info()"
   ]
  },
  {
   "cell_type": "code",
   "execution_count": 21,
   "id": "affiliated-communication",
   "metadata": {},
   "outputs": [],
   "source": [
    "bitcoin_price = bitcoin_price.rename(columns = {\"Price\" : \"Bit_Price\", \"Volume\": \"Bit_Volume\"})"
   ]
  },
  {
   "cell_type": "code",
   "execution_count": 22,
   "id": "homeless-peeing",
   "metadata": {},
   "outputs": [
    {
     "data": {
      "text/html": [
       "<div>\n",
       "<style scoped>\n",
       "    .dataframe tbody tr th:only-of-type {\n",
       "        vertical-align: middle;\n",
       "    }\n",
       "\n",
       "    .dataframe tbody tr th {\n",
       "        vertical-align: top;\n",
       "    }\n",
       "\n",
       "    .dataframe thead th {\n",
       "        text-align: right;\n",
       "    }\n",
       "</style>\n",
       "<table border=\"1\" class=\"dataframe\">\n",
       "  <thead>\n",
       "    <tr style=\"text-align: right;\">\n",
       "      <th></th>\n",
       "      <th>Date</th>\n",
       "      <th>Bit_Price</th>\n",
       "      <th>Bit_Volume</th>\n",
       "    </tr>\n",
       "  </thead>\n",
       "  <tbody>\n",
       "    <tr>\n",
       "      <th>0</th>\n",
       "      <td>2/4/2021</td>\n",
       "      <td>36981.0</td>\n",
       "      <td>9.692893e+07</td>\n",
       "    </tr>\n",
       "    <tr>\n",
       "      <th>1</th>\n",
       "      <td>2/3/2021</td>\n",
       "      <td>36983.0</td>\n",
       "      <td>2.767003e+09</td>\n",
       "    </tr>\n",
       "    <tr>\n",
       "      <th>2</th>\n",
       "      <td>2/2/2021</td>\n",
       "      <td>37677.0</td>\n",
       "      <td>2.340630e+09</td>\n",
       "    </tr>\n",
       "    <tr>\n",
       "      <th>3</th>\n",
       "      <td>2/1/2021</td>\n",
       "      <td>35524.0</td>\n",
       "      <td>1.789699e+09</td>\n",
       "    </tr>\n",
       "    <tr>\n",
       "      <th>4</th>\n",
       "      <td>1/31/2021</td>\n",
       "      <td>33536.0</td>\n",
       "      <td>1.623291e+09</td>\n",
       "    </tr>\n",
       "    <tr>\n",
       "      <th>...</th>\n",
       "      <td>...</td>\n",
       "      <td>...</td>\n",
       "      <td>...</td>\n",
       "    </tr>\n",
       "    <tr>\n",
       "      <th>3845</th>\n",
       "      <td>7/21/2010</td>\n",
       "      <td>0.0</td>\n",
       "      <td>1.300000e+02</td>\n",
       "    </tr>\n",
       "    <tr>\n",
       "      <th>3846</th>\n",
       "      <td>7/20/2010</td>\n",
       "      <td>0.0</td>\n",
       "      <td>4.200000e+01</td>\n",
       "    </tr>\n",
       "    <tr>\n",
       "      <th>3847</th>\n",
       "      <td>7/19/2010</td>\n",
       "      <td>0.0</td>\n",
       "      <td>2.100000e+01</td>\n",
       "    </tr>\n",
       "    <tr>\n",
       "      <th>3848</th>\n",
       "      <td>7/18/2010</td>\n",
       "      <td>0.0</td>\n",
       "      <td>5.000000e+01</td>\n",
       "    </tr>\n",
       "    <tr>\n",
       "      <th>3849</th>\n",
       "      <td>7/17/2010</td>\n",
       "      <td>0.0</td>\n",
       "      <td>5.090000e+00</td>\n",
       "    </tr>\n",
       "  </tbody>\n",
       "</table>\n",
       "<p>3850 rows × 3 columns</p>\n",
       "</div>"
      ],
      "text/plain": [
       "           Date  Bit_Price    Bit_Volume\n",
       "0      2/4/2021    36981.0  9.692893e+07\n",
       "1      2/3/2021    36983.0  2.767003e+09\n",
       "2      2/2/2021    37677.0  2.340630e+09\n",
       "3      2/1/2021    35524.0  1.789699e+09\n",
       "4     1/31/2021    33536.0  1.623291e+09\n",
       "...         ...        ...           ...\n",
       "3845  7/21/2010        0.0  1.300000e+02\n",
       "3846  7/20/2010        0.0  4.200000e+01\n",
       "3847  7/19/2010        0.0  2.100000e+01\n",
       "3848  7/18/2010        0.0  5.000000e+01\n",
       "3849  7/17/2010        0.0  5.090000e+00\n",
       "\n",
       "[3850 rows x 3 columns]"
      ]
     },
     "execution_count": 22,
     "metadata": {},
     "output_type": "execute_result"
    }
   ],
   "source": [
    "bitcoin_price"
   ]
  },
  {
   "cell_type": "code",
   "execution_count": 23,
   "id": "british-enlargement",
   "metadata": {},
   "outputs": [],
   "source": [
    "bitcoin_price['Bit_Volume'] = bitcoin_price['Bit_Volume'].astype('int64')"
   ]
  },
  {
   "cell_type": "code",
   "execution_count": 24,
   "id": "fatal-fiber",
   "metadata": {},
   "outputs": [
    {
     "name": "stdout",
     "output_type": "stream",
     "text": [
      "<class 'pandas.core.frame.DataFrame'>\n",
      "RangeIndex: 3850 entries, 0 to 3849\n",
      "Data columns (total 3 columns):\n",
      " #   Column      Non-Null Count  Dtype  \n",
      "---  ------      --------------  -----  \n",
      " 0   Date        3850 non-null   object \n",
      " 1   Bit_Price   3850 non-null   float64\n",
      " 2   Bit_Volume  3850 non-null   int64  \n",
      "dtypes: float64(1), int64(1), object(1)\n",
      "memory usage: 90.4+ KB\n"
     ]
    }
   ],
   "source": [
    "bitcoin_price.info()"
   ]
  },
  {
   "cell_type": "code",
   "execution_count": 25,
   "id": "unnecessary-check",
   "metadata": {},
   "outputs": [
    {
     "data": {
      "text/html": [
       "<div>\n",
       "<style scoped>\n",
       "    .dataframe tbody tr th:only-of-type {\n",
       "        vertical-align: middle;\n",
       "    }\n",
       "\n",
       "    .dataframe tbody tr th {\n",
       "        vertical-align: top;\n",
       "    }\n",
       "\n",
       "    .dataframe thead th {\n",
       "        text-align: right;\n",
       "    }\n",
       "</style>\n",
       "<table border=\"1\" class=\"dataframe\">\n",
       "  <thead>\n",
       "    <tr style=\"text-align: right;\">\n",
       "      <th></th>\n",
       "      <th>Date</th>\n",
       "      <th>Bit_Price</th>\n",
       "      <th>Bit_Volume</th>\n",
       "    </tr>\n",
       "  </thead>\n",
       "  <tbody>\n",
       "    <tr>\n",
       "      <th>0</th>\n",
       "      <td>2/4/2021</td>\n",
       "      <td>36981.0</td>\n",
       "      <td>96928930</td>\n",
       "    </tr>\n",
       "    <tr>\n",
       "      <th>1</th>\n",
       "      <td>2/3/2021</td>\n",
       "      <td>36983.0</td>\n",
       "      <td>2767003412</td>\n",
       "    </tr>\n",
       "    <tr>\n",
       "      <th>2</th>\n",
       "      <td>2/2/2021</td>\n",
       "      <td>37677.0</td>\n",
       "      <td>2340630205</td>\n",
       "    </tr>\n",
       "    <tr>\n",
       "      <th>3</th>\n",
       "      <td>2/1/2021</td>\n",
       "      <td>35524.0</td>\n",
       "      <td>1789698965</td>\n",
       "    </tr>\n",
       "    <tr>\n",
       "      <th>4</th>\n",
       "      <td>1/31/2021</td>\n",
       "      <td>33536.0</td>\n",
       "      <td>1623291067</td>\n",
       "    </tr>\n",
       "    <tr>\n",
       "      <th>...</th>\n",
       "      <td>...</td>\n",
       "      <td>...</td>\n",
       "      <td>...</td>\n",
       "    </tr>\n",
       "    <tr>\n",
       "      <th>3845</th>\n",
       "      <td>7/21/2010</td>\n",
       "      <td>0.0</td>\n",
       "      <td>130</td>\n",
       "    </tr>\n",
       "    <tr>\n",
       "      <th>3846</th>\n",
       "      <td>7/20/2010</td>\n",
       "      <td>0.0</td>\n",
       "      <td>42</td>\n",
       "    </tr>\n",
       "    <tr>\n",
       "      <th>3847</th>\n",
       "      <td>7/19/2010</td>\n",
       "      <td>0.0</td>\n",
       "      <td>21</td>\n",
       "    </tr>\n",
       "    <tr>\n",
       "      <th>3848</th>\n",
       "      <td>7/18/2010</td>\n",
       "      <td>0.0</td>\n",
       "      <td>50</td>\n",
       "    </tr>\n",
       "    <tr>\n",
       "      <th>3849</th>\n",
       "      <td>7/17/2010</td>\n",
       "      <td>0.0</td>\n",
       "      <td>5</td>\n",
       "    </tr>\n",
       "  </tbody>\n",
       "</table>\n",
       "<p>3850 rows × 3 columns</p>\n",
       "</div>"
      ],
      "text/plain": [
       "           Date  Bit_Price  Bit_Volume\n",
       "0      2/4/2021    36981.0    96928930\n",
       "1      2/3/2021    36983.0  2767003412\n",
       "2      2/2/2021    37677.0  2340630205\n",
       "3      2/1/2021    35524.0  1789698965\n",
       "4     1/31/2021    33536.0  1623291067\n",
       "...         ...        ...         ...\n",
       "3845  7/21/2010        0.0         130\n",
       "3846  7/20/2010        0.0          42\n",
       "3847  7/19/2010        0.0          21\n",
       "3848  7/18/2010        0.0          50\n",
       "3849  7/17/2010        0.0           5\n",
       "\n",
       "[3850 rows x 3 columns]"
      ]
     },
     "execution_count": 25,
     "metadata": {},
     "output_type": "execute_result"
    }
   ],
   "source": [
    "bitcoin_price"
   ]
  },
  {
   "cell_type": "code",
   "execution_count": 26,
   "id": "wound-kinase",
   "metadata": {},
   "outputs": [],
   "source": [
    "merged_stocks = pd.merge(bitcoin_price, pcg_stock, on = 'Date', how = 'outer')"
   ]
  },
  {
   "cell_type": "code",
   "execution_count": 27,
   "id": "fundamental-repair",
   "metadata": {},
   "outputs": [
    {
     "data": {
      "text/html": [
       "<div>\n",
       "<style scoped>\n",
       "    .dataframe tbody tr th:only-of-type {\n",
       "        vertical-align: middle;\n",
       "    }\n",
       "\n",
       "    .dataframe tbody tr th {\n",
       "        vertical-align: top;\n",
       "    }\n",
       "\n",
       "    .dataframe thead th {\n",
       "        text-align: right;\n",
       "    }\n",
       "</style>\n",
       "<table border=\"1\" class=\"dataframe\">\n",
       "  <thead>\n",
       "    <tr style=\"text-align: right;\">\n",
       "      <th></th>\n",
       "      <th>Date</th>\n",
       "      <th>Bit_Price</th>\n",
       "      <th>Bit_Volume</th>\n",
       "      <th>PCG_Price</th>\n",
       "      <th>PCG_Volume</th>\n",
       "    </tr>\n",
       "  </thead>\n",
       "  <tbody>\n",
       "    <tr>\n",
       "      <th>0</th>\n",
       "      <td>2/4/2021</td>\n",
       "      <td>36981.0</td>\n",
       "      <td>9.692893e+07</td>\n",
       "      <td>NaN</td>\n",
       "      <td>NaN</td>\n",
       "    </tr>\n",
       "    <tr>\n",
       "      <th>1</th>\n",
       "      <td>2/3/2021</td>\n",
       "      <td>36983.0</td>\n",
       "      <td>2.767003e+09</td>\n",
       "      <td>11.97</td>\n",
       "      <td>9846600.0</td>\n",
       "    </tr>\n",
       "    <tr>\n",
       "      <th>2</th>\n",
       "      <td>2/2/2021</td>\n",
       "      <td>37677.0</td>\n",
       "      <td>2.340630e+09</td>\n",
       "      <td>11.73</td>\n",
       "      <td>7704700.0</td>\n",
       "    </tr>\n",
       "    <tr>\n",
       "      <th>3</th>\n",
       "      <td>2/1/2021</td>\n",
       "      <td>35524.0</td>\n",
       "      <td>1.789699e+09</td>\n",
       "      <td>11.49</td>\n",
       "      <td>12987900.0</td>\n",
       "    </tr>\n",
       "    <tr>\n",
       "      <th>4</th>\n",
       "      <td>1/31/2021</td>\n",
       "      <td>33536.0</td>\n",
       "      <td>1.623291e+09</td>\n",
       "      <td>NaN</td>\n",
       "      <td>NaN</td>\n",
       "    </tr>\n",
       "  </tbody>\n",
       "</table>\n",
       "</div>"
      ],
      "text/plain": [
       "        Date  Bit_Price    Bit_Volume  PCG_Price  PCG_Volume\n",
       "0   2/4/2021    36981.0  9.692893e+07        NaN         NaN\n",
       "1   2/3/2021    36983.0  2.767003e+09      11.97   9846600.0\n",
       "2   2/2/2021    37677.0  2.340630e+09      11.73   7704700.0\n",
       "3   2/1/2021    35524.0  1.789699e+09      11.49  12987900.0\n",
       "4  1/31/2021    33536.0  1.623291e+09        NaN         NaN"
      ]
     },
     "execution_count": 27,
     "metadata": {},
     "output_type": "execute_result"
    }
   ],
   "source": [
    "merged_stocks.head()"
   ]
  },
  {
   "cell_type": "code",
   "execution_count": 28,
   "id": "critical-crack",
   "metadata": {},
   "outputs": [],
   "source": [
    "merged_stocks = pd.merge(merged_stocks, duke_stock, on='Date', how = 'outer')"
   ]
  },
  {
   "cell_type": "code",
   "execution_count": 29,
   "id": "united-macro",
   "metadata": {},
   "outputs": [
    {
     "data": {
      "text/html": [
       "<div>\n",
       "<style scoped>\n",
       "    .dataframe tbody tr th:only-of-type {\n",
       "        vertical-align: middle;\n",
       "    }\n",
       "\n",
       "    .dataframe tbody tr th {\n",
       "        vertical-align: top;\n",
       "    }\n",
       "\n",
       "    .dataframe thead th {\n",
       "        text-align: right;\n",
       "    }\n",
       "</style>\n",
       "<table border=\"1\" class=\"dataframe\">\n",
       "  <thead>\n",
       "    <tr style=\"text-align: right;\">\n",
       "      <th></th>\n",
       "      <th>Date</th>\n",
       "      <th>Bit_Price</th>\n",
       "      <th>Bit_Volume</th>\n",
       "      <th>PCG_Price</th>\n",
       "      <th>PCG_Volume</th>\n",
       "      <th>Duke_Price</th>\n",
       "      <th>Duke_Vol</th>\n",
       "    </tr>\n",
       "  </thead>\n",
       "  <tbody>\n",
       "    <tr>\n",
       "      <th>0</th>\n",
       "      <td>2/4/2021</td>\n",
       "      <td>36981.0</td>\n",
       "      <td>9.692893e+07</td>\n",
       "      <td>NaN</td>\n",
       "      <td>NaN</td>\n",
       "      <td>NaN</td>\n",
       "      <td>NaN</td>\n",
       "    </tr>\n",
       "    <tr>\n",
       "      <th>1</th>\n",
       "      <td>2/3/2021</td>\n",
       "      <td>36983.0</td>\n",
       "      <td>2.767003e+09</td>\n",
       "      <td>11.97</td>\n",
       "      <td>9846600.0</td>\n",
       "      <td>93.39</td>\n",
       "      <td>2577200.0</td>\n",
       "    </tr>\n",
       "    <tr>\n",
       "      <th>2</th>\n",
       "      <td>2/2/2021</td>\n",
       "      <td>37677.0</td>\n",
       "      <td>2.340630e+09</td>\n",
       "      <td>11.73</td>\n",
       "      <td>7704700.0</td>\n",
       "      <td>93.10</td>\n",
       "      <td>2240700.0</td>\n",
       "    </tr>\n",
       "    <tr>\n",
       "      <th>3</th>\n",
       "      <td>2/1/2021</td>\n",
       "      <td>35524.0</td>\n",
       "      <td>1.789699e+09</td>\n",
       "      <td>11.49</td>\n",
       "      <td>12987900.0</td>\n",
       "      <td>93.16</td>\n",
       "      <td>2570900.0</td>\n",
       "    </tr>\n",
       "    <tr>\n",
       "      <th>4</th>\n",
       "      <td>1/31/2021</td>\n",
       "      <td>33536.0</td>\n",
       "      <td>1.623291e+09</td>\n",
       "      <td>NaN</td>\n",
       "      <td>NaN</td>\n",
       "      <td>NaN</td>\n",
       "      <td>NaN</td>\n",
       "    </tr>\n",
       "  </tbody>\n",
       "</table>\n",
       "</div>"
      ],
      "text/plain": [
       "        Date  Bit_Price    Bit_Volume  PCG_Price  PCG_Volume  Duke_Price  \\\n",
       "0   2/4/2021    36981.0  9.692893e+07        NaN         NaN         NaN   \n",
       "1   2/3/2021    36983.0  2.767003e+09      11.97   9846600.0       93.39   \n",
       "2   2/2/2021    37677.0  2.340630e+09      11.73   7704700.0       93.10   \n",
       "3   2/1/2021    35524.0  1.789699e+09      11.49  12987900.0       93.16   \n",
       "4  1/31/2021    33536.0  1.623291e+09        NaN         NaN         NaN   \n",
       "\n",
       "    Duke_Vol  \n",
       "0        NaN  \n",
       "1  2577200.0  \n",
       "2  2240700.0  \n",
       "3  2570900.0  \n",
       "4        NaN  "
      ]
     },
     "execution_count": 29,
     "metadata": {},
     "output_type": "execute_result"
    }
   ],
   "source": [
    "merged_stocks.head()"
   ]
  },
  {
   "cell_type": "code",
   "execution_count": 30,
   "id": "second-conclusion",
   "metadata": {},
   "outputs": [],
   "source": [
    "merged_stocks = pd.merge(merged_stocks, dominion_stock, on='Date', how = 'outer')"
   ]
  },
  {
   "cell_type": "code",
   "execution_count": null,
   "id": "banned-scroll",
   "metadata": {},
   "outputs": [],
   "source": []
  },
  {
   "cell_type": "code",
   "execution_count": 31,
   "id": "authentic-fellowship",
   "metadata": {},
   "outputs": [
    {
     "data": {
      "text/html": [
       "<div>\n",
       "<style scoped>\n",
       "    .dataframe tbody tr th:only-of-type {\n",
       "        vertical-align: middle;\n",
       "    }\n",
       "\n",
       "    .dataframe tbody tr th {\n",
       "        vertical-align: top;\n",
       "    }\n",
       "\n",
       "    .dataframe thead th {\n",
       "        text-align: right;\n",
       "    }\n",
       "</style>\n",
       "<table border=\"1\" class=\"dataframe\">\n",
       "  <thead>\n",
       "    <tr style=\"text-align: right;\">\n",
       "      <th></th>\n",
       "      <th>Date</th>\n",
       "      <th>Bit_Price</th>\n",
       "      <th>Bit_Volume</th>\n",
       "      <th>PCG_Price</th>\n",
       "      <th>PCG_Volume</th>\n",
       "      <th>Duke_Price</th>\n",
       "      <th>Duke_Vol</th>\n",
       "      <th>Dom_Price</th>\n",
       "      <th>Dom_Vol</th>\n",
       "    </tr>\n",
       "  </thead>\n",
       "  <tbody>\n",
       "    <tr>\n",
       "      <th>0</th>\n",
       "      <td>2/4/2021</td>\n",
       "      <td>36981.0</td>\n",
       "      <td>9.692893e+07</td>\n",
       "      <td>NaN</td>\n",
       "      <td>NaN</td>\n",
       "      <td>NaN</td>\n",
       "      <td>NaN</td>\n",
       "      <td>NaN</td>\n",
       "      <td>NaN</td>\n",
       "    </tr>\n",
       "    <tr>\n",
       "      <th>1</th>\n",
       "      <td>2/3/2021</td>\n",
       "      <td>36983.0</td>\n",
       "      <td>2.767003e+09</td>\n",
       "      <td>11.97</td>\n",
       "      <td>9846600.0</td>\n",
       "      <td>93.39</td>\n",
       "      <td>2577200.0</td>\n",
       "      <td>72.57</td>\n",
       "      <td>3054700.0</td>\n",
       "    </tr>\n",
       "    <tr>\n",
       "      <th>2</th>\n",
       "      <td>2/2/2021</td>\n",
       "      <td>37677.0</td>\n",
       "      <td>2.340630e+09</td>\n",
       "      <td>11.73</td>\n",
       "      <td>7704700.0</td>\n",
       "      <td>93.10</td>\n",
       "      <td>2240700.0</td>\n",
       "      <td>72.77</td>\n",
       "      <td>3922300.0</td>\n",
       "    </tr>\n",
       "    <tr>\n",
       "      <th>3</th>\n",
       "      <td>2/1/2021</td>\n",
       "      <td>35524.0</td>\n",
       "      <td>1.789699e+09</td>\n",
       "      <td>11.49</td>\n",
       "      <td>12987900.0</td>\n",
       "      <td>93.16</td>\n",
       "      <td>2570900.0</td>\n",
       "      <td>72.68</td>\n",
       "      <td>3480100.0</td>\n",
       "    </tr>\n",
       "    <tr>\n",
       "      <th>4</th>\n",
       "      <td>1/31/2021</td>\n",
       "      <td>33536.0</td>\n",
       "      <td>1.623291e+09</td>\n",
       "      <td>NaN</td>\n",
       "      <td>NaN</td>\n",
       "      <td>NaN</td>\n",
       "      <td>NaN</td>\n",
       "      <td>NaN</td>\n",
       "      <td>NaN</td>\n",
       "    </tr>\n",
       "  </tbody>\n",
       "</table>\n",
       "</div>"
      ],
      "text/plain": [
       "        Date  Bit_Price    Bit_Volume  PCG_Price  PCG_Volume  Duke_Price  \\\n",
       "0   2/4/2021    36981.0  9.692893e+07        NaN         NaN         NaN   \n",
       "1   2/3/2021    36983.0  2.767003e+09      11.97   9846600.0       93.39   \n",
       "2   2/2/2021    37677.0  2.340630e+09      11.73   7704700.0       93.10   \n",
       "3   2/1/2021    35524.0  1.789699e+09      11.49  12987900.0       93.16   \n",
       "4  1/31/2021    33536.0  1.623291e+09        NaN         NaN         NaN   \n",
       "\n",
       "    Duke_Vol  Dom_Price    Dom_Vol  \n",
       "0        NaN        NaN        NaN  \n",
       "1  2577200.0      72.57  3054700.0  \n",
       "2  2240700.0      72.77  3922300.0  \n",
       "3  2570900.0      72.68  3480100.0  \n",
       "4        NaN        NaN        NaN  "
      ]
     },
     "execution_count": 31,
     "metadata": {},
     "output_type": "execute_result"
    }
   ],
   "source": [
    "merged_stocks.head()"
   ]
  },
  {
   "cell_type": "code",
   "execution_count": 32,
   "id": "sexual-wisdom",
   "metadata": {},
   "outputs": [],
   "source": [
    "merged_stocks  = merged_stocks.dropna()"
   ]
  },
  {
   "cell_type": "code",
   "execution_count": 33,
   "id": "chemical-replica",
   "metadata": {},
   "outputs": [
    {
     "name": "stdout",
     "output_type": "stream",
     "text": [
      "<class 'pandas.core.frame.DataFrame'>\n",
      "Int64Index: 2651 entries, 1 to 3847\n",
      "Data columns (total 9 columns):\n",
      " #   Column      Non-Null Count  Dtype  \n",
      "---  ------      --------------  -----  \n",
      " 0   Date        2651 non-null   object \n",
      " 1   Bit_Price   2651 non-null   float64\n",
      " 2   Bit_Volume  2651 non-null   float64\n",
      " 3   PCG_Price   2651 non-null   float64\n",
      " 4   PCG_Volume  2651 non-null   float64\n",
      " 5   Duke_Price  2651 non-null   float64\n",
      " 6   Duke_Vol    2651 non-null   float64\n",
      " 7   Dom_Price   2651 non-null   float64\n",
      " 8   Dom_Vol     2651 non-null   float64\n",
      "dtypes: float64(8), object(1)\n",
      "memory usage: 207.1+ KB\n"
     ]
    }
   ],
   "source": [
    "merged_stocks.info()"
   ]
  },
  {
   "cell_type": "code",
   "execution_count": 34,
   "id": "according-exception",
   "metadata": {},
   "outputs": [],
   "source": [
    "merged_stocks['Date']= pd.to_datetime(merged_stocks['Date'])"
   ]
  },
  {
   "cell_type": "code",
   "execution_count": 35,
   "id": "bridal-joshua",
   "metadata": {},
   "outputs": [],
   "source": [
    "merged_stocks = merged_stocks.sort_values(by=['Date']).reset_index(drop=True)"
   ]
  },
  {
   "cell_type": "code",
   "execution_count": null,
   "id": "younger-contact",
   "metadata": {},
   "outputs": [],
   "source": []
  },
  {
   "cell_type": "code",
   "execution_count": 36,
   "id": "knowing-mexico",
   "metadata": {},
   "outputs": [
    {
     "data": {
      "text/html": [
       "<div>\n",
       "<style scoped>\n",
       "    .dataframe tbody tr th:only-of-type {\n",
       "        vertical-align: middle;\n",
       "    }\n",
       "\n",
       "    .dataframe tbody tr th {\n",
       "        vertical-align: top;\n",
       "    }\n",
       "\n",
       "    .dataframe thead th {\n",
       "        text-align: right;\n",
       "    }\n",
       "</style>\n",
       "<table border=\"1\" class=\"dataframe\">\n",
       "  <thead>\n",
       "    <tr style=\"text-align: right;\">\n",
       "      <th></th>\n",
       "      <th>Date</th>\n",
       "      <th>Bit_Price</th>\n",
       "      <th>Bit_Volume</th>\n",
       "      <th>PCG_Price</th>\n",
       "      <th>PCG_Volume</th>\n",
       "      <th>Duke_Price</th>\n",
       "      <th>Duke_Vol</th>\n",
       "      <th>Dom_Price</th>\n",
       "      <th>Dom_Vol</th>\n",
       "    </tr>\n",
       "  </thead>\n",
       "  <tbody>\n",
       "    <tr>\n",
       "      <th>2646</th>\n",
       "      <td>2021-01-28</td>\n",
       "      <td>34252.0</td>\n",
       "      <td>6.015929e+09</td>\n",
       "      <td>11.56</td>\n",
       "      <td>13277900.0</td>\n",
       "      <td>91.48</td>\n",
       "      <td>2001000.0</td>\n",
       "      <td>72.67</td>\n",
       "      <td>3124000.0</td>\n",
       "    </tr>\n",
       "    <tr>\n",
       "      <th>2647</th>\n",
       "      <td>2021-01-29</td>\n",
       "      <td>34318.0</td>\n",
       "      <td>1.574214e+09</td>\n",
       "      <td>11.43</td>\n",
       "      <td>11594200.0</td>\n",
       "      <td>94.00</td>\n",
       "      <td>4967400.0</td>\n",
       "      <td>72.89</td>\n",
       "      <td>4330700.0</td>\n",
       "    </tr>\n",
       "    <tr>\n",
       "      <th>2648</th>\n",
       "      <td>2021-02-01</td>\n",
       "      <td>35524.0</td>\n",
       "      <td>1.789699e+09</td>\n",
       "      <td>11.49</td>\n",
       "      <td>12987900.0</td>\n",
       "      <td>93.16</td>\n",
       "      <td>2570900.0</td>\n",
       "      <td>72.68</td>\n",
       "      <td>3480100.0</td>\n",
       "    </tr>\n",
       "    <tr>\n",
       "      <th>2649</th>\n",
       "      <td>2021-02-02</td>\n",
       "      <td>37677.0</td>\n",
       "      <td>2.340630e+09</td>\n",
       "      <td>11.73</td>\n",
       "      <td>7704700.0</td>\n",
       "      <td>93.10</td>\n",
       "      <td>2240700.0</td>\n",
       "      <td>72.77</td>\n",
       "      <td>3922300.0</td>\n",
       "    </tr>\n",
       "    <tr>\n",
       "      <th>2650</th>\n",
       "      <td>2021-02-03</td>\n",
       "      <td>36983.0</td>\n",
       "      <td>2.767003e+09</td>\n",
       "      <td>11.97</td>\n",
       "      <td>9846600.0</td>\n",
       "      <td>93.39</td>\n",
       "      <td>2577200.0</td>\n",
       "      <td>72.57</td>\n",
       "      <td>3054700.0</td>\n",
       "    </tr>\n",
       "  </tbody>\n",
       "</table>\n",
       "</div>"
      ],
      "text/plain": [
       "           Date  Bit_Price    Bit_Volume  PCG_Price  PCG_Volume  Duke_Price  \\\n",
       "2646 2021-01-28    34252.0  6.015929e+09      11.56  13277900.0       91.48   \n",
       "2647 2021-01-29    34318.0  1.574214e+09      11.43  11594200.0       94.00   \n",
       "2648 2021-02-01    35524.0  1.789699e+09      11.49  12987900.0       93.16   \n",
       "2649 2021-02-02    37677.0  2.340630e+09      11.73   7704700.0       93.10   \n",
       "2650 2021-02-03    36983.0  2.767003e+09      11.97   9846600.0       93.39   \n",
       "\n",
       "       Duke_Vol  Dom_Price    Dom_Vol  \n",
       "2646  2001000.0      72.67  3124000.0  \n",
       "2647  4967400.0      72.89  4330700.0  \n",
       "2648  2570900.0      72.68  3480100.0  \n",
       "2649  2240700.0      72.77  3922300.0  \n",
       "2650  2577200.0      72.57  3054700.0  "
      ]
     },
     "execution_count": 36,
     "metadata": {},
     "output_type": "execute_result"
    }
   ],
   "source": [
    "merged_stocks.tail()"
   ]
  },
  {
   "cell_type": "code",
   "execution_count": 37,
   "id": "worthy-punishment",
   "metadata": {},
   "outputs": [
    {
     "data": {
      "image/png": "[encoded data removed]",
      "text/plain": [
       "<Figure size 1152x576 with 2 Axes>"
      ]
     },
     "metadata": {
      "needs_background": "light"
     },
     "output_type": "display_data"
    }
   ],
   "source": [
    "# create figure and axis objects with subplots()\n",
    "fig,ax = plt.subplots(figsize= (16,8))\n",
    "# make a plot\n",
    "ax.plot(merged_stocks.Date, merged_stocks.Bit_Price, color=\"blue\", label = 'Bitcoin')\n",
    "plt.legend(loc = 'upper right')\n",
    "# set x-axis label\n",
    "ax.set_xlabel(\"Year\",fontsize=14)\n",
    "# set y-axis label\n",
    "ax.set_ylabel(\"Bitcoin Price ($)\",color=\"red\",fontsize=14)\n",
    "ax2=ax.twinx()\n",
    "# make a plot with different y-axis using second axis object\n",
    "ax2.plot(merged_stocks.Date, merged_stocks.PCG_Price,color=\"green\", label = 'PCG')\n",
    "ax2.plot(merged_stocks.Date, merged_stocks.Duke_Price,color=\"magenta\", label = 'Duke')\n",
    "ax2.plot(merged_stocks.Date, merged_stocks.Dom_Price,color=\"red\", label = 'Dominion Energy')\n",
    "ax2.set_ylabel(\"Dominion Energy($)       Duke Energy($)       PGEC($)\",color=\"blue\",fontsize=14)\n",
    "plt.legend(loc = 'best', fontsize = 'large')\n",
    "plt.show()\n",
    "\n",
    "# save the plot as a file\n",
    "#fig.savefig('two_different_y_axis_for_single_python_plot_with_twinx.jpg',\n",
    "         #   format='jpeg',\n",
    "            #dpi=100,\n",
    "           # bbox_inches='tight')"
   ]
  },
  {
   "cell_type": "code",
   "execution_count": 38,
   "id": "conditional-death",
   "metadata": {},
   "outputs": [
    {
     "data": {
      "image/png": "[encoded data removed]",
      "text/plain": [
       "<Figure size 1152x576 with 2 Axes>"
      ]
     },
     "metadata": {
      "needs_background": "light"
     },
     "output_type": "display_data"
    }
   ],
   "source": [
    "# create figure and axis objects with subplots()\n",
    "fig,ax = plt.subplots(figsize= (16,8))\n",
    "# make a plot\n",
    "ax.plot(merged_stocks.Date, merged_stocks.Bit_Volume, color=\"blue\", label = 'Bitcoin')\n",
    "plt.legend(loc = 6)\n",
    "# set x-axis label\n",
    "ax.set_xlabel(\"Year\",fontsize=14)\n",
    "\n",
    "# set y-axis label\n",
    "ax.set_ylabel(\"Bitcoin Volume\",color=\"red\",fontsize=14)\n",
    "ax2=ax.twinx()\n",
    "# make a plot with different y-axis using second axis object\n",
    "ax2.plot(merged_stocks.Date, merged_stocks.PCG_Volume,color=\"green\", label = 'PCG')\n",
    "ax2.plot(merged_stocks.Date, merged_stocks.Duke_Vol,color=\"magenta\", label = 'Duke')\n",
    "ax2.plot(merged_stocks.Date, merged_stocks.Dom_Vol,color=\"red\", label = 'Dominion Energy')\n",
    "ax2.set_ylabel(\"Dominion Energy       Duke Energy       PGEC\",color=\"blue\",fontsize=14)\n",
    "plt.legend(loc = 2, fontsize = 'large')\n",
    "plt.show()"
   ]
  },
  {
   "cell_type": "code",
   "execution_count": 39,
   "id": "german-amateur",
   "metadata": {},
   "outputs": [],
   "source": [
    "Date = merged_stocks.iloc[:,0]"
   ]
  },
  {
   "cell_type": "code",
   "execution_count": 40,
   "id": "explicit-rings",
   "metadata": {},
   "outputs": [
    {
     "name": "stdout",
     "output_type": "stream",
     "text": [
      "<class 'pandas.core.frame.DataFrame'>\n",
      "RangeIndex: 2651 entries, 0 to 2650\n",
      "Data columns (total 9 columns):\n",
      " #   Column      Non-Null Count  Dtype         \n",
      "---  ------      --------------  -----         \n",
      " 0   Date        2651 non-null   datetime64[ns]\n",
      " 1   Bit_Price   2651 non-null   float64       \n",
      " 2   Bit_Volume  2651 non-null   float64       \n",
      " 3   PCG_Price   2651 non-null   float64       \n",
      " 4   PCG_Volume  2651 non-null   float64       \n",
      " 5   Duke_Price  2651 non-null   float64       \n",
      " 6   Duke_Vol    2651 non-null   float64       \n",
      " 7   Dom_Price   2651 non-null   float64       \n",
      " 8   Dom_Vol     2651 non-null   float64       \n",
      "dtypes: datetime64[ns](1), float64(8)\n",
      "memory usage: 186.5 KB\n"
     ]
    }
   ],
   "source": [
    "merged_stocks.info()"
   ]
  },
  {
   "cell_type": "code",
   "execution_count": 41,
   "id": "pending-laugh",
   "metadata": {},
   "outputs": [],
   "source": [
    "merged_stocks = merged_stocks.astype({'Bit_Volume': 'int64', 'PCG_Volume': 'int64', 'Duke_Vol' : 'int64', 'Dom_Vol' : 'int64'})"
   ]
  },
  {
   "cell_type": "code",
   "execution_count": 42,
   "id": "homeless-marking",
   "metadata": {},
   "outputs": [
    {
     "data": {
      "text/html": [
       "<div>\n",
       "<style scoped>\n",
       "    .dataframe tbody tr th:only-of-type {\n",
       "        vertical-align: middle;\n",
       "    }\n",
       "\n",
       "    .dataframe tbody tr th {\n",
       "        vertical-align: top;\n",
       "    }\n",
       "\n",
       "    .dataframe thead th {\n",
       "        text-align: right;\n",
       "    }\n",
       "</style>\n",
       "<table border=\"1\" class=\"dataframe\">\n",
       "  <thead>\n",
       "    <tr style=\"text-align: right;\">\n",
       "      <th></th>\n",
       "      <th>Date</th>\n",
       "      <th>Bit_Price</th>\n",
       "      <th>Bit_Volume</th>\n",
       "      <th>PCG_Price</th>\n",
       "      <th>PCG_Volume</th>\n",
       "      <th>Duke_Price</th>\n",
       "      <th>Duke_Vol</th>\n",
       "      <th>Dom_Price</th>\n",
       "      <th>Dom_Vol</th>\n",
       "    </tr>\n",
       "  </thead>\n",
       "  <tbody>\n",
       "    <tr>\n",
       "      <th>2646</th>\n",
       "      <td>2021-01-28</td>\n",
       "      <td>34252.0</td>\n",
       "      <td>6015929350</td>\n",
       "      <td>11.56</td>\n",
       "      <td>13277900</td>\n",
       "      <td>91.48</td>\n",
       "      <td>2001000</td>\n",
       "      <td>72.67</td>\n",
       "      <td>3124000</td>\n",
       "    </tr>\n",
       "    <tr>\n",
       "      <th>2647</th>\n",
       "      <td>2021-01-29</td>\n",
       "      <td>34318.0</td>\n",
       "      <td>1574213551</td>\n",
       "      <td>11.43</td>\n",
       "      <td>11594200</td>\n",
       "      <td>94.00</td>\n",
       "      <td>4967400</td>\n",
       "      <td>72.89</td>\n",
       "      <td>4330700</td>\n",
       "    </tr>\n",
       "    <tr>\n",
       "      <th>2648</th>\n",
       "      <td>2021-02-01</td>\n",
       "      <td>35524.0</td>\n",
       "      <td>1789698965</td>\n",
       "      <td>11.49</td>\n",
       "      <td>12987900</td>\n",
       "      <td>93.16</td>\n",
       "      <td>2570900</td>\n",
       "      <td>72.68</td>\n",
       "      <td>3480100</td>\n",
       "    </tr>\n",
       "    <tr>\n",
       "      <th>2649</th>\n",
       "      <td>2021-02-02</td>\n",
       "      <td>37677.0</td>\n",
       "      <td>2340630205</td>\n",
       "      <td>11.73</td>\n",
       "      <td>7704700</td>\n",
       "      <td>93.10</td>\n",
       "      <td>2240700</td>\n",
       "      <td>72.77</td>\n",
       "      <td>3922300</td>\n",
       "    </tr>\n",
       "    <tr>\n",
       "      <th>2650</th>\n",
       "      <td>2021-02-03</td>\n",
       "      <td>36983.0</td>\n",
       "      <td>2767003412</td>\n",
       "      <td>11.97</td>\n",
       "      <td>9846600</td>\n",
       "      <td>93.39</td>\n",
       "      <td>2577200</td>\n",
       "      <td>72.57</td>\n",
       "      <td>3054700</td>\n",
       "    </tr>\n",
       "  </tbody>\n",
       "</table>\n",
       "</div>"
      ],
      "text/plain": [
       "           Date  Bit_Price  Bit_Volume  PCG_Price  PCG_Volume  Duke_Price  \\\n",
       "2646 2021-01-28    34252.0  6015929350      11.56    13277900       91.48   \n",
       "2647 2021-01-29    34318.0  1574213551      11.43    11594200       94.00   \n",
       "2648 2021-02-01    35524.0  1789698965      11.49    12987900       93.16   \n",
       "2649 2021-02-02    37677.0  2340630205      11.73     7704700       93.10   \n",
       "2650 2021-02-03    36983.0  2767003412      11.97     9846600       93.39   \n",
       "\n",
       "      Duke_Vol  Dom_Price  Dom_Vol  \n",
       "2646   2001000      72.67  3124000  \n",
       "2647   4967400      72.89  4330700  \n",
       "2648   2570900      72.68  3480100  \n",
       "2649   2240700      72.77  3922300  \n",
       "2650   2577200      72.57  3054700  "
      ]
     },
     "execution_count": 42,
     "metadata": {},
     "output_type": "execute_result"
    }
   ],
   "source": [
    "merged_stocks.tail()"
   ]
  },
  {
   "cell_type": "code",
   "execution_count": 43,
   "id": "contemporary-supply",
   "metadata": {},
   "outputs": [
    {
     "data": {
      "image/png": "[encoded data removed]",
      "text/plain": [
       "<Figure size 1152x576 with 4 Axes>"
      ]
     },
     "metadata": {
      "needs_background": "light"
     },
     "output_type": "display_data"
    }
   ],
   "source": [
    "fig, (ax1, ax2, ax3, ax4) = plt.subplots(4, sharex=True, figsize= (16,8))\n",
    "fig.suptitle(\"Rise of bitcoin compared to Utility companies\", fontsize=16, fontweight=\"bold\")\n",
    "\n",
    "ax1.set_xlim(min(Date), max(Date))\n",
    "ax1.plot(Date, merged_stocks['Bit_Price'] ,linewidth=1)\n",
    "#ax1.plot(year, vc_fit, \"b--\", linewidth=1)\n",
    "ax1.set_ylabel(\"Bitcoin Price ($)\")\n",
    "\n",
    "ax2.plot(Date, merged_stocks['PCG_Price'], linewidth=1, color=\"r\")\n",
    "#ax2.plot(year, m_fit, \"r--\", linewidth=1)\n",
    "ax2.set_ylabel(\"PCEG stock ($)\")\n",
    "\n",
    "ax3.plot(Date, merged_stocks['Duke_Price'], linewidth=1, color=\"g\")\n",
    "#ax3.plot(year, aa_fit, \"g--\", linewidth=1)\n",
    "ax3.set_ylabel(\"Duke stock ($)\")\n",
    "\n",
    "ax4.plot(Date, merged_stocks['Dom_Price'], linewidth=1, color = 'y')\n",
    "ax4.set_ylabel(\"Dominion ($)\")\n",
    "ax4.set_xlabel(\"Year\")\n",
    "plt.savefig('subplot')\n",
    "#plt.show()"
   ]
  },
  {
   "cell_type": "code",
   "execution_count": 44,
   "id": "exterior-locking",
   "metadata": {},
   "outputs": [],
   "source": [
    "merged_price = merged_stocks[['Bit_Price', 'PCG_Price', 'Duke_Price', 'Dom_Price']]"
   ]
  },
  {
   "cell_type": "code",
   "execution_count": 45,
   "id": "confused-delhi",
   "metadata": {},
   "outputs": [
    {
     "data": {
      "text/html": [
       "<div>\n",
       "<style scoped>\n",
       "    .dataframe tbody tr th:only-of-type {\n",
       "        vertical-align: middle;\n",
       "    }\n",
       "\n",
       "    .dataframe tbody tr th {\n",
       "        vertical-align: top;\n",
       "    }\n",
       "\n",
       "    .dataframe thead th {\n",
       "        text-align: right;\n",
       "    }\n",
       "</style>\n",
       "<table border=\"1\" class=\"dataframe\">\n",
       "  <thead>\n",
       "    <tr style=\"text-align: right;\">\n",
       "      <th></th>\n",
       "      <th>Bit_Price</th>\n",
       "      <th>PCG_Price</th>\n",
       "      <th>Duke_Price</th>\n",
       "      <th>Dom_Price</th>\n",
       "    </tr>\n",
       "  </thead>\n",
       "  <tbody>\n",
       "    <tr>\n",
       "      <th>Bit_Price</th>\n",
       "      <td>1.000000</td>\n",
       "      <td>-0.593090</td>\n",
       "      <td>0.602618</td>\n",
       "      <td>0.493690</td>\n",
       "    </tr>\n",
       "    <tr>\n",
       "      <th>PCG_Price</th>\n",
       "      <td>-0.593090</td>\n",
       "      <td>1.000000</td>\n",
       "      <td>-0.323775</td>\n",
       "      <td>-0.181620</td>\n",
       "    </tr>\n",
       "    <tr>\n",
       "      <th>Duke_Price</th>\n",
       "      <td>0.602618</td>\n",
       "      <td>-0.323775</td>\n",
       "      <td>1.000000</td>\n",
       "      <td>0.932047</td>\n",
       "    </tr>\n",
       "    <tr>\n",
       "      <th>Dom_Price</th>\n",
       "      <td>0.493690</td>\n",
       "      <td>-0.181620</td>\n",
       "      <td>0.932047</td>\n",
       "      <td>1.000000</td>\n",
       "    </tr>\n",
       "  </tbody>\n",
       "</table>\n",
       "</div>"
      ],
      "text/plain": [
       "            Bit_Price  PCG_Price  Duke_Price  Dom_Price\n",
       "Bit_Price    1.000000  -0.593090    0.602618   0.493690\n",
       "PCG_Price   -0.593090   1.000000   -0.323775  -0.181620\n",
       "Duke_Price   0.602618  -0.323775    1.000000   0.932047\n",
       "Dom_Price    0.493690  -0.181620    0.932047   1.000000"
      ]
     },
     "execution_count": 45,
     "metadata": {},
     "output_type": "execute_result"
    }
   ],
   "source": [
    "merged_price.corr(method ='pearson')"
   ]
  },
  {
   "cell_type": "code",
   "execution_count": 46,
   "id": "explicit-postage",
   "metadata": {},
   "outputs": [
    {
     "data": {
      "text/html": [
       "<div>\n",
       "<style scoped>\n",
       "    .dataframe tbody tr th:only-of-type {\n",
       "        vertical-align: middle;\n",
       "    }\n",
       "\n",
       "    .dataframe tbody tr th {\n",
       "        vertical-align: top;\n",
       "    }\n",
       "\n",
       "    .dataframe thead th {\n",
       "        text-align: right;\n",
       "    }\n",
       "</style>\n",
       "<table border=\"1\" class=\"dataframe\">\n",
       "  <thead>\n",
       "    <tr style=\"text-align: right;\">\n",
       "      <th></th>\n",
       "      <th>Bit_Price</th>\n",
       "      <th>PCG_Price</th>\n",
       "      <th>Duke_Price</th>\n",
       "      <th>Dom_Price</th>\n",
       "    </tr>\n",
       "  </thead>\n",
       "  <tbody>\n",
       "    <tr>\n",
       "      <th>2646</th>\n",
       "      <td>34252.0</td>\n",
       "      <td>11.56</td>\n",
       "      <td>91.48</td>\n",
       "      <td>72.67</td>\n",
       "    </tr>\n",
       "    <tr>\n",
       "      <th>2647</th>\n",
       "      <td>34318.0</td>\n",
       "      <td>11.43</td>\n",
       "      <td>94.00</td>\n",
       "      <td>72.89</td>\n",
       "    </tr>\n",
       "    <tr>\n",
       "      <th>2648</th>\n",
       "      <td>35524.0</td>\n",
       "      <td>11.49</td>\n",
       "      <td>93.16</td>\n",
       "      <td>72.68</td>\n",
       "    </tr>\n",
       "    <tr>\n",
       "      <th>2649</th>\n",
       "      <td>37677.0</td>\n",
       "      <td>11.73</td>\n",
       "      <td>93.10</td>\n",
       "      <td>72.77</td>\n",
       "    </tr>\n",
       "    <tr>\n",
       "      <th>2650</th>\n",
       "      <td>36983.0</td>\n",
       "      <td>11.97</td>\n",
       "      <td>93.39</td>\n",
       "      <td>72.57</td>\n",
       "    </tr>\n",
       "  </tbody>\n",
       "</table>\n",
       "</div>"
      ],
      "text/plain": [
       "      Bit_Price  PCG_Price  Duke_Price  Dom_Price\n",
       "2646    34252.0      11.56       91.48      72.67\n",
       "2647    34318.0      11.43       94.00      72.89\n",
       "2648    35524.0      11.49       93.16      72.68\n",
       "2649    37677.0      11.73       93.10      72.77\n",
       "2650    36983.0      11.97       93.39      72.57"
      ]
     },
     "execution_count": 46,
     "metadata": {},
     "output_type": "execute_result"
    }
   ],
   "source": [
    "merged_price.tail()"
   ]
  },
  {
   "cell_type": "code",
   "execution_count": 47,
   "id": "timely-breeding",
   "metadata": {},
   "outputs": [
    {
     "data": {
      "text/plain": [
       "F_onewayResult(statistic=988.4708024242124, pvalue=0.0)"
      ]
     },
     "execution_count": 47,
     "metadata": {},
     "output_type": "execute_result"
    }
   ],
   "source": [
    "stats.f_oneway(merged_price['Bit_Price'], merged_price['PCG_Price'], merged_price['Duke_Price'], merged_price['Dom_Price'])"
   ]
  },
  {
   "cell_type": "code",
   "execution_count": 48,
   "id": "widespread-raise",
   "metadata": {},
   "outputs": [],
   "source": [
    "merged_volume = merged_stocks[['Bit_Volume', 'PCG_Volume','Duke_Vol','Dom_Vol']]"
   ]
  },
  {
   "cell_type": "code",
   "execution_count": 49,
   "id": "chemical-genre",
   "metadata": {},
   "outputs": [
    {
     "data": {
      "text/html": [
       "<div>\n",
       "<style scoped>\n",
       "    .dataframe tbody tr th:only-of-type {\n",
       "        vertical-align: middle;\n",
       "    }\n",
       "\n",
       "    .dataframe tbody tr th {\n",
       "        vertical-align: top;\n",
       "    }\n",
       "\n",
       "    .dataframe thead th {\n",
       "        text-align: right;\n",
       "    }\n",
       "</style>\n",
       "<table border=\"1\" class=\"dataframe\">\n",
       "  <thead>\n",
       "    <tr style=\"text-align: right;\">\n",
       "      <th></th>\n",
       "      <th>Bit_Volume</th>\n",
       "      <th>PCG_Volume</th>\n",
       "      <th>Duke_Vol</th>\n",
       "      <th>Dom_Vol</th>\n",
       "    </tr>\n",
       "  </thead>\n",
       "  <tbody>\n",
       "    <tr>\n",
       "      <th>Bit_Volume</th>\n",
       "      <td>1.000000</td>\n",
       "      <td>0.190340</td>\n",
       "      <td>-0.020645</td>\n",
       "      <td>0.211271</td>\n",
       "    </tr>\n",
       "    <tr>\n",
       "      <th>PCG_Volume</th>\n",
       "      <td>0.190340</td>\n",
       "      <td>1.000000</td>\n",
       "      <td>0.048262</td>\n",
       "      <td>0.265719</td>\n",
       "    </tr>\n",
       "    <tr>\n",
       "      <th>Duke_Vol</th>\n",
       "      <td>-0.020645</td>\n",
       "      <td>0.048262</td>\n",
       "      <td>1.000000</td>\n",
       "      <td>0.284333</td>\n",
       "    </tr>\n",
       "    <tr>\n",
       "      <th>Dom_Vol</th>\n",
       "      <td>0.211271</td>\n",
       "      <td>0.265719</td>\n",
       "      <td>0.284333</td>\n",
       "      <td>1.000000</td>\n",
       "    </tr>\n",
       "  </tbody>\n",
       "</table>\n",
       "</div>"
      ],
      "text/plain": [
       "            Bit_Volume  PCG_Volume  Duke_Vol   Dom_Vol\n",
       "Bit_Volume    1.000000    0.190340 -0.020645  0.211271\n",
       "PCG_Volume    0.190340    1.000000  0.048262  0.265719\n",
       "Duke_Vol     -0.020645    0.048262  1.000000  0.284333\n",
       "Dom_Vol       0.211271    0.265719  0.284333  1.000000"
      ]
     },
     "execution_count": 49,
     "metadata": {},
     "output_type": "execute_result"
    }
   ],
   "source": [
    "merged_volume.corr(method='pearson')"
   ]
  },
  {
   "cell_type": "code",
   "execution_count": 50,
   "id": "brutal-snapshot",
   "metadata": {},
   "outputs": [
    {
     "data": {
      "image/png": "[encoded data removed]",
      "text/plain": [
       "<Figure size 1152x576 with 4 Axes>"
      ]
     },
     "metadata": {
      "needs_background": "light"
     },
     "output_type": "display_data"
    }
   ],
   "source": [
    "fig, (ax1, ax2, ax3, ax4) = plt.subplots(4, sharex=True, figsize=(16,8))\n",
    "fig.suptitle(\"Rise of bitcoin compared to Utility companies\", fontsize=16, fontweight=\"bold\")\n",
    "\n",
    "ax1.set_xlim(min(Date), max(Date))\n",
    "ax1.plot(Date, merged_stocks['Bit_Volume'] ,linewidth=1)\n",
    "#ax1.plot(year, vc_fit, \"b--\", linewidth=1)\n",
    "ax1.set_ylabel(\"Bitcoin Volume\")\n",
    "\n",
    "ax2.plot(Date, merged_stocks['PCG_Volume'], linewidth=1, color=\"r\")\n",
    "#ax2.plot(year, m_fit, \"r--\", linewidth=1)\n",
    "ax2.set_ylabel(\"PCEG Volume\")\n",
    "\n",
    "ax3.plot(Date, merged_stocks['Duke_Vol'], linewidth=1, color=\"g\")\n",
    "#ax3.plot(year, aa_fit, \"g--\", linewidth=1)\n",
    "ax3.set_ylabel(\"Duke Volume\")\n",
    "\n",
    "ax4.plot(Date, merged_stocks['Dom_Vol'], linewidth=1, color = 'y')\n",
    "ax4.set_ylabel(\"Dominion Volume\")\n",
    "ax4.set_xlabel(\"Year\")\n",
    "#plt.show()\n",
    "plt.savefig('Volume Subplot')"
   ]
  },
  {
   "cell_type": "code",
   "execution_count": 68,
   "id": "coral-slope",
   "metadata": {},
   "outputs": [
    {
     "data": {
      "text/html": [
       "<div>\n",
       "<style scoped>\n",
       "    .dataframe tbody tr th:only-of-type {\n",
       "        vertical-align: middle;\n",
       "    }\n",
       "\n",
       "    .dataframe tbody tr th {\n",
       "        vertical-align: top;\n",
       "    }\n",
       "\n",
       "    .dataframe thead th {\n",
       "        text-align: right;\n",
       "    }\n",
       "</style>\n",
       "<table border=\"1\" class=\"dataframe\">\n",
       "  <thead>\n",
       "    <tr style=\"text-align: right;\">\n",
       "      <th></th>\n",
       "      <th>Date</th>\n",
       "      <th>Bit_Price</th>\n",
       "      <th>Bit_Volume</th>\n",
       "      <th>PCG_Price</th>\n",
       "      <th>PCG_Volume</th>\n",
       "      <th>Duke_Price</th>\n",
       "      <th>Duke_Vol</th>\n",
       "      <th>Dom_Price</th>\n",
       "      <th>Dom_Vol</th>\n",
       "      <th>Bitcoin_returns</th>\n",
       "      <th>PCG_returns</th>\n",
       "      <th>Duke_returns</th>\n",
       "      <th>Dom_returns</th>\n",
       "    </tr>\n",
       "  </thead>\n",
       "  <tbody>\n",
       "    <tr>\n",
       "      <th>136</th>\n",
       "      <td>2011-01-31</td>\n",
       "      <td>1.0</td>\n",
       "      <td>23264</td>\n",
       "      <td>46.28</td>\n",
       "      <td>2001600</td>\n",
       "      <td>53.64</td>\n",
       "      <td>2237867</td>\n",
       "      <td>43.54</td>\n",
       "      <td>1936300</td>\n",
       "      <td>inf</td>\n",
       "      <td>0.000865</td>\n",
       "      <td>-0.004454</td>\n",
       "      <td>0.003457</td>\n",
       "    </tr>\n",
       "    <tr>\n",
       "      <th>137</th>\n",
       "      <td>2011-02-01</td>\n",
       "      <td>1.0</td>\n",
       "      <td>4126</td>\n",
       "      <td>46.60</td>\n",
       "      <td>1576900</td>\n",
       "      <td>54.15</td>\n",
       "      <td>2371200</td>\n",
       "      <td>43.78</td>\n",
       "      <td>1644200</td>\n",
       "      <td>0.0</td>\n",
       "      <td>0.006914</td>\n",
       "      <td>0.009508</td>\n",
       "      <td>0.005512</td>\n",
       "    </tr>\n",
       "    <tr>\n",
       "      <th>138</th>\n",
       "      <td>2011-02-02</td>\n",
       "      <td>1.0</td>\n",
       "      <td>6064</td>\n",
       "      <td>46.19</td>\n",
       "      <td>3730500</td>\n",
       "      <td>53.88</td>\n",
       "      <td>2184633</td>\n",
       "      <td>43.51</td>\n",
       "      <td>2075700</td>\n",
       "      <td>0.0</td>\n",
       "      <td>-0.008798</td>\n",
       "      <td>-0.004986</td>\n",
       "      <td>-0.006167</td>\n",
       "    </tr>\n",
       "    <tr>\n",
       "      <th>139</th>\n",
       "      <td>2011-02-03</td>\n",
       "      <td>1.0</td>\n",
       "      <td>33966</td>\n",
       "      <td>46.36</td>\n",
       "      <td>2320300</td>\n",
       "      <td>54.27</td>\n",
       "      <td>7440567</td>\n",
       "      <td>43.69</td>\n",
       "      <td>6894900</td>\n",
       "      <td>0.0</td>\n",
       "      <td>0.003680</td>\n",
       "      <td>0.007238</td>\n",
       "      <td>0.004137</td>\n",
       "    </tr>\n",
       "    <tr>\n",
       "      <th>140</th>\n",
       "      <td>2011-02-04</td>\n",
       "      <td>1.0</td>\n",
       "      <td>13634</td>\n",
       "      <td>46.25</td>\n",
       "      <td>1494600</td>\n",
       "      <td>54.03</td>\n",
       "      <td>6786100</td>\n",
       "      <td>43.61</td>\n",
       "      <td>6684600</td>\n",
       "      <td>0.0</td>\n",
       "      <td>-0.002373</td>\n",
       "      <td>-0.004422</td>\n",
       "      <td>-0.001831</td>\n",
       "    </tr>\n",
       "  </tbody>\n",
       "</table>\n",
       "</div>"
      ],
      "text/plain": [
       "          Date  Bit_Price  Bit_Volume  PCG_Price  PCG_Volume  Duke_Price  \\\n",
       "136 2011-01-31        1.0       23264      46.28     2001600       53.64   \n",
       "137 2011-02-01        1.0        4126      46.60     1576900       54.15   \n",
       "138 2011-02-02        1.0        6064      46.19     3730500       53.88   \n",
       "139 2011-02-03        1.0       33966      46.36     2320300       54.27   \n",
       "140 2011-02-04        1.0       13634      46.25     1494600       54.03   \n",
       "\n",
       "     Duke_Vol  Dom_Price  Dom_Vol  Bitcoin_returns  PCG_returns  Duke_returns  \\\n",
       "136   2237867      43.54  1936300              inf     0.000865     -0.004454   \n",
       "137   2371200      43.78  1644200              0.0     0.006914      0.009508   \n",
       "138   2184633      43.51  2075700              0.0    -0.008798     -0.004986   \n",
       "139   7440567      43.69  6894900              0.0     0.003680      0.007238   \n",
       "140   6786100      43.61  6684600              0.0    -0.002373     -0.004422   \n",
       "\n",
       "     Dom_returns  \n",
       "136     0.003457  \n",
       "137     0.005512  \n",
       "138    -0.006167  \n",
       "139     0.004137  \n",
       "140    -0.001831  "
      ]
     },
     "execution_count": 68,
     "metadata": {},
     "output_type": "execute_result"
    }
   ],
   "source": [
    "merged_stocks.head()"
   ]
  },
  {
   "cell_type": "code",
   "execution_count": 69,
   "id": "fifth-flashing",
   "metadata": {},
   "outputs": [],
   "source": [
    "merged_stocks['Bitcoin_returns'] = merged_stocks['Bit_Price'].pct_change(1)\n",
    "merged_stocks['PCG_returns'] = merged_stocks['PCG_Price'].pct_change(1, fill_method='ffill')\n",
    "merged_stocks['Duke_returns'] = merged_stocks['Duke_Price'].pct_change(1, fill_method='ffill')\n",
    "merged_stocks['Dom_returns'] = merged_stocks['Dom_Price'].pct_change(1, fill_method='ffill')"
   ]
  },
  {
   "cell_type": "code",
   "execution_count": 70,
   "id": "protecting-salad",
   "metadata": {},
   "outputs": [
    {
     "data": {
      "text/html": [
       "<div>\n",
       "<style scoped>\n",
       "    .dataframe tbody tr th:only-of-type {\n",
       "        vertical-align: middle;\n",
       "    }\n",
       "\n",
       "    .dataframe tbody tr th {\n",
       "        vertical-align: top;\n",
       "    }\n",
       "\n",
       "    .dataframe thead th {\n",
       "        text-align: right;\n",
       "    }\n",
       "</style>\n",
       "<table border=\"1\" class=\"dataframe\">\n",
       "  <thead>\n",
       "    <tr style=\"text-align: right;\">\n",
       "      <th></th>\n",
       "      <th>Date</th>\n",
       "      <th>Bit_Price</th>\n",
       "      <th>Bit_Volume</th>\n",
       "      <th>PCG_Price</th>\n",
       "      <th>PCG_Volume</th>\n",
       "      <th>Duke_Price</th>\n",
       "      <th>Duke_Vol</th>\n",
       "      <th>Dom_Price</th>\n",
       "      <th>Dom_Vol</th>\n",
       "      <th>Bitcoin_returns</th>\n",
       "      <th>PCG_returns</th>\n",
       "      <th>Duke_returns</th>\n",
       "      <th>Dom_returns</th>\n",
       "    </tr>\n",
       "  </thead>\n",
       "  <tbody>\n",
       "    <tr>\n",
       "      <th>2641</th>\n",
       "      <td>2021-01-21</td>\n",
       "      <td>33008.0</td>\n",
       "      <td>3353813976</td>\n",
       "      <td>11.99</td>\n",
       "      <td>10841000</td>\n",
       "      <td>90.18</td>\n",
       "      <td>2254700</td>\n",
       "      <td>71.80</td>\n",
       "      <td>3185400</td>\n",
       "      <td>0.070298</td>\n",
       "      <td>-0.020425</td>\n",
       "      <td>-0.006609</td>\n",
       "      <td>0.003073</td>\n",
       "    </tr>\n",
       "    <tr>\n",
       "      <th>2642</th>\n",
       "      <td>2021-01-22</td>\n",
       "      <td>32107.0</td>\n",
       "      <td>1269262152</td>\n",
       "      <td>11.72</td>\n",
       "      <td>13159000</td>\n",
       "      <td>90.29</td>\n",
       "      <td>1917500</td>\n",
       "      <td>72.29</td>\n",
       "      <td>4152900</td>\n",
       "      <td>-0.027296</td>\n",
       "      <td>-0.022519</td>\n",
       "      <td>0.001220</td>\n",
       "      <td>0.006825</td>\n",
       "    </tr>\n",
       "    <tr>\n",
       "      <th>2643</th>\n",
       "      <td>2021-01-25</td>\n",
       "      <td>32517.0</td>\n",
       "      <td>1886292212</td>\n",
       "      <td>11.35</td>\n",
       "      <td>14494600</td>\n",
       "      <td>92.91</td>\n",
       "      <td>3469200</td>\n",
       "      <td>73.56</td>\n",
       "      <td>4057600</td>\n",
       "      <td>0.012770</td>\n",
       "      <td>-0.031570</td>\n",
       "      <td>0.029018</td>\n",
       "      <td>0.017568</td>\n",
       "    </tr>\n",
       "    <tr>\n",
       "      <th>2644</th>\n",
       "      <td>2021-01-26</td>\n",
       "      <td>30423.0</td>\n",
       "      <td>3149650799</td>\n",
       "      <td>11.06</td>\n",
       "      <td>21212500</td>\n",
       "      <td>92.92</td>\n",
       "      <td>2261500</td>\n",
       "      <td>73.64</td>\n",
       "      <td>3393600</td>\n",
       "      <td>-0.064397</td>\n",
       "      <td>-0.025551</td>\n",
       "      <td>0.000108</td>\n",
       "      <td>0.001088</td>\n",
       "    </tr>\n",
       "    <tr>\n",
       "      <th>2645</th>\n",
       "      <td>2021-01-27</td>\n",
       "      <td>33444.0</td>\n",
       "      <td>2463162479</td>\n",
       "      <td>10.79</td>\n",
       "      <td>21061500</td>\n",
       "      <td>91.71</td>\n",
       "      <td>3002300</td>\n",
       "      <td>73.08</td>\n",
       "      <td>4657200</td>\n",
       "      <td>0.099300</td>\n",
       "      <td>-0.024412</td>\n",
       "      <td>-0.013022</td>\n",
       "      <td>-0.007605</td>\n",
       "    </tr>\n",
       "    <tr>\n",
       "      <th>2646</th>\n",
       "      <td>2021-01-28</td>\n",
       "      <td>34252.0</td>\n",
       "      <td>6015929350</td>\n",
       "      <td>11.56</td>\n",
       "      <td>13277900</td>\n",
       "      <td>91.48</td>\n",
       "      <td>2001000</td>\n",
       "      <td>72.67</td>\n",
       "      <td>3124000</td>\n",
       "      <td>0.024160</td>\n",
       "      <td>0.071362</td>\n",
       "      <td>-0.002508</td>\n",
       "      <td>-0.005610</td>\n",
       "    </tr>\n",
       "    <tr>\n",
       "      <th>2647</th>\n",
       "      <td>2021-01-29</td>\n",
       "      <td>34318.0</td>\n",
       "      <td>1574213551</td>\n",
       "      <td>11.43</td>\n",
       "      <td>11594200</td>\n",
       "      <td>94.00</td>\n",
       "      <td>4967400</td>\n",
       "      <td>72.89</td>\n",
       "      <td>4330700</td>\n",
       "      <td>0.001927</td>\n",
       "      <td>-0.011246</td>\n",
       "      <td>0.027547</td>\n",
       "      <td>0.003027</td>\n",
       "    </tr>\n",
       "    <tr>\n",
       "      <th>2648</th>\n",
       "      <td>2021-02-01</td>\n",
       "      <td>35524.0</td>\n",
       "      <td>1789698965</td>\n",
       "      <td>11.49</td>\n",
       "      <td>12987900</td>\n",
       "      <td>93.16</td>\n",
       "      <td>2570900</td>\n",
       "      <td>72.68</td>\n",
       "      <td>3480100</td>\n",
       "      <td>0.035142</td>\n",
       "      <td>0.005249</td>\n",
       "      <td>-0.008936</td>\n",
       "      <td>-0.002881</td>\n",
       "    </tr>\n",
       "    <tr>\n",
       "      <th>2649</th>\n",
       "      <td>2021-02-02</td>\n",
       "      <td>37677.0</td>\n",
       "      <td>2340630205</td>\n",
       "      <td>11.73</td>\n",
       "      <td>7704700</td>\n",
       "      <td>93.10</td>\n",
       "      <td>2240700</td>\n",
       "      <td>72.77</td>\n",
       "      <td>3922300</td>\n",
       "      <td>0.060607</td>\n",
       "      <td>0.020888</td>\n",
       "      <td>-0.000644</td>\n",
       "      <td>0.001238</td>\n",
       "    </tr>\n",
       "    <tr>\n",
       "      <th>2650</th>\n",
       "      <td>2021-02-03</td>\n",
       "      <td>36983.0</td>\n",
       "      <td>2767003412</td>\n",
       "      <td>11.97</td>\n",
       "      <td>9846600</td>\n",
       "      <td>93.39</td>\n",
       "      <td>2577200</td>\n",
       "      <td>72.57</td>\n",
       "      <td>3054700</td>\n",
       "      <td>-0.018420</td>\n",
       "      <td>0.020460</td>\n",
       "      <td>0.003115</td>\n",
       "      <td>-0.002748</td>\n",
       "    </tr>\n",
       "  </tbody>\n",
       "</table>\n",
       "</div>"
      ],
      "text/plain": [
       "           Date  Bit_Price  Bit_Volume  PCG_Price  PCG_Volume  Duke_Price  \\\n",
       "2641 2021-01-21    33008.0  3353813976      11.99    10841000       90.18   \n",
       "2642 2021-01-22    32107.0  1269262152      11.72    13159000       90.29   \n",
       "2643 2021-01-25    32517.0  1886292212      11.35    14494600       92.91   \n",
       "2644 2021-01-26    30423.0  3149650799      11.06    21212500       92.92   \n",
       "2645 2021-01-27    33444.0  2463162479      10.79    21061500       91.71   \n",
       "2646 2021-01-28    34252.0  6015929350      11.56    13277900       91.48   \n",
       "2647 2021-01-29    34318.0  1574213551      11.43    11594200       94.00   \n",
       "2648 2021-02-01    35524.0  1789698965      11.49    12987900       93.16   \n",
       "2649 2021-02-02    37677.0  2340630205      11.73     7704700       93.10   \n",
       "2650 2021-02-03    36983.0  2767003412      11.97     9846600       93.39   \n",
       "\n",
       "      Duke_Vol  Dom_Price  Dom_Vol  Bitcoin_returns  PCG_returns  \\\n",
       "2641   2254700      71.80  3185400         0.070298    -0.020425   \n",
       "2642   1917500      72.29  4152900        -0.027296    -0.022519   \n",
       "2643   3469200      73.56  4057600         0.012770    -0.031570   \n",
       "2644   2261500      73.64  3393600        -0.064397    -0.025551   \n",
       "2645   3002300      73.08  4657200         0.099300    -0.024412   \n",
       "2646   2001000      72.67  3124000         0.024160     0.071362   \n",
       "2647   4967400      72.89  4330700         0.001927    -0.011246   \n",
       "2648   2570900      72.68  3480100         0.035142     0.005249   \n",
       "2649   2240700      72.77  3922300         0.060607     0.020888   \n",
       "2650   2577200      72.57  3054700        -0.018420     0.020460   \n",
       "\n",
       "      Duke_returns  Dom_returns  \n",
       "2641     -0.006609     0.003073  \n",
       "2642      0.001220     0.006825  \n",
       "2643      0.029018     0.017568  \n",
       "2644      0.000108     0.001088  \n",
       "2645     -0.013022    -0.007605  \n",
       "2646     -0.002508    -0.005610  \n",
       "2647      0.027547     0.003027  \n",
       "2648     -0.008936    -0.002881  \n",
       "2649     -0.000644     0.001238  \n",
       "2650      0.003115    -0.002748  "
      ]
     },
     "execution_count": 70,
     "metadata": {},
     "output_type": "execute_result"
    }
   ],
   "source": [
    "merged_stocks.tail(10)"
   ]
  },
  {
   "cell_type": "code",
   "execution_count": 71,
   "id": "nearby-monitoring",
   "metadata": {},
   "outputs": [],
   "source": [
    "merged_stocks = merged_stocks.dropna()"
   ]
  },
  {
   "cell_type": "code",
   "execution_count": 72,
   "id": "linear-skiing",
   "metadata": {},
   "outputs": [
    {
     "name": "stdout",
     "output_type": "stream",
     "text": [
      "<class 'pandas.core.frame.DataFrame'>\n",
      "Int64Index: 2514 entries, 137 to 2650\n",
      "Data columns (total 13 columns):\n",
      " #   Column           Non-Null Count  Dtype         \n",
      "---  ------           --------------  -----         \n",
      " 0   Date             2514 non-null   datetime64[ns]\n",
      " 1   Bit_Price        2514 non-null   float64       \n",
      " 2   Bit_Volume       2514 non-null   int64         \n",
      " 3   PCG_Price        2514 non-null   float64       \n",
      " 4   PCG_Volume       2514 non-null   int64         \n",
      " 5   Duke_Price       2514 non-null   float64       \n",
      " 6   Duke_Vol         2514 non-null   int64         \n",
      " 7   Dom_Price        2514 non-null   float64       \n",
      " 8   Dom_Vol          2514 non-null   int64         \n",
      " 9   Bitcoin_returns  2514 non-null   float64       \n",
      " 10  PCG_returns      2514 non-null   float64       \n",
      " 11  Duke_returns     2514 non-null   float64       \n",
      " 12  Dom_returns      2514 non-null   float64       \n",
      "dtypes: datetime64[ns](1), float64(8), int64(4)\n",
      "memory usage: 275.0 KB\n"
     ]
    }
   ],
   "source": [
    "merged_stocks.info()"
   ]
  },
  {
   "cell_type": "code",
   "execution_count": 74,
   "id": "legal-temperature",
   "metadata": {},
   "outputs": [
    {
     "data": {
      "text/plain": [
       "<AxesSubplot:>"
      ]
     },
     "execution_count": 74,
     "metadata": {},
     "output_type": "execute_result"
    },
    {
     "data": {
      "image/png": "[encoded data removed]",
      "text/plain": [
       "<Figure size 720x360 with 1 Axes>"
      ]
     },
     "metadata": {
      "needs_background": "light"
     },
     "output_type": "display_data"
    }
   ],
   "source": [
    "merged_stocks['Bitcoin_returns'].hist(bins=50, figsize= (10,5), color='b', zorder=2, rwidth=0.9)"
   ]
  },
  {
   "cell_type": "code",
   "execution_count": 75,
   "id": "global-tokyo",
   "metadata": {},
   "outputs": [
    {
     "data": {
      "text/plain": [
       "<AxesSubplot:>"
      ]
     },
     "execution_count": 75,
     "metadata": {},
     "output_type": "execute_result"
    },
    {
     "data": {
      "image/png": "[encoded data removed]",
      "text/plain": [
       "<Figure size 720x360 with 1 Axes>"
      ]
     },
     "metadata": {
      "needs_background": "light"
     },
     "output_type": "display_data"
    }
   ],
   "source": [
    "merged_stocks['PCG_returns'].hist(bins=50, figsize=(10,5), color = 'red',zorder=2, rwidth=0.9)"
   ]
  },
  {
   "cell_type": "code",
   "execution_count": 76,
   "id": "suspected-modern",
   "metadata": {},
   "outputs": [
    {
     "data": {
      "text/plain": [
       "<AxesSubplot:>"
      ]
     },
     "execution_count": 76,
     "metadata": {},
     "output_type": "execute_result"
    },
    {
     "data": {
      "image/png": "[encoded data removed]",
      "text/plain": [
       "<Figure size 720x360 with 1 Axes>"
      ]
     },
     "metadata": {
      "needs_background": "light"
     },
     "output_type": "display_data"
    }
   ],
   "source": [
    "merged_stocks['Duke_returns'].hist(bins=50, figsize=(10,5), color='y', zorder=2, rwidth=0.9)"
   ]
  },
  {
   "cell_type": "code",
   "execution_count": 77,
   "id": "latin-capitol",
   "metadata": {},
   "outputs": [
    {
     "data": {
      "text/plain": [
       "<AxesSubplot:>"
      ]
     },
     "execution_count": 77,
     "metadata": {},
     "output_type": "execute_result"
    },
    {
     "data": {
      "image/png": "[encoded data removed]",
      "text/plain": [
       "<Figure size 720x360 with 1 Axes>"
      ]
     },
     "metadata": {
      "needs_background": "light"
     },
     "output_type": "display_data"
    }
   ],
   "source": [
    "merged_stocks['Dom_returns'].hist(bins=50, figsize=(10,5), color='black', zorder=2, rwidth=0.9)"
   ]
  },
  {
   "cell_type": "code",
   "execution_count": 94,
   "id": "cross-florist",
   "metadata": {},
   "outputs": [
    {
     "data": {
      "image/png": "[encoded data removed]",
      "text/plain": [
       "<Figure size 720x576 with 1 Axes>"
      ]
     },
     "metadata": {
      "needs_background": "light"
     },
     "output_type": "display_data"
    }
   ],
   "source": [
    "merged_stocks['Bitcoin_returns'].hist(bins=50, label = 'Bitcoin', figsize = (10,8), alpha = 0.5)\n",
    "merged_stocks['PCG_returns'].hist(bins=50, label = 'PG&E', alpha = 0.5)\n",
    "merged_stocks['Duke_returns'].hist(bins=50, label = 'Duke', alpha=0.5)\n",
    "merged_stocks['Dom_returns'].hist(bins=50, label='Dominion', alpha=0.5)\n",
    "plt.legend()\n",
    "plt.savefig('Returns_Histogram')"
   ]
  },
  {
   "cell_type": "code",
   "execution_count": 78,
   "id": "optional-alcohol",
   "metadata": {},
   "outputs": [
    {
     "data": {
      "text/plain": [
       "3.360294117647059"
      ]
     },
     "execution_count": 78,
     "metadata": {},
     "output_type": "execute_result"
    }
   ],
   "source": [
    "# Maximum daily return\n",
    "merged_stocks['Bitcoin_returns'].max()"
   ]
  },
  {
   "cell_type": "code",
   "execution_count": 79,
   "id": "systematic-ending",
   "metadata": {},
   "outputs": [
    {
     "data": {
      "text/html": [
       "<div>\n",
       "<style scoped>\n",
       "    .dataframe tbody tr th:only-of-type {\n",
       "        vertical-align: middle;\n",
       "    }\n",
       "\n",
       "    .dataframe tbody tr th {\n",
       "        vertical-align: top;\n",
       "    }\n",
       "\n",
       "    .dataframe thead th {\n",
       "        text-align: right;\n",
       "    }\n",
       "</style>\n",
       "<table border=\"1\" class=\"dataframe\">\n",
       "  <thead>\n",
       "    <tr style=\"text-align: right;\">\n",
       "      <th></th>\n",
       "      <th>Date</th>\n",
       "      <th>Bit_Price</th>\n",
       "      <th>Bit_Volume</th>\n",
       "      <th>PCG_Price</th>\n",
       "      <th>PCG_Volume</th>\n",
       "      <th>Duke_Price</th>\n",
       "      <th>Duke_Vol</th>\n",
       "      <th>Dom_Price</th>\n",
       "      <th>Dom_Vol</th>\n",
       "      <th>Bitcoin_returns</th>\n",
       "      <th>PCG_returns</th>\n",
       "      <th>Duke_returns</th>\n",
       "      <th>Dom_returns</th>\n",
       "    </tr>\n",
       "  </thead>\n",
       "  <tbody>\n",
       "    <tr>\n",
       "      <th>902</th>\n",
       "      <td>2014-02-25</td>\n",
       "      <td>593.0</td>\n",
       "      <td>383571</td>\n",
       "      <td>43.79</td>\n",
       "      <td>3041900</td>\n",
       "      <td>71.03</td>\n",
       "      <td>2615100</td>\n",
       "      <td>71.26</td>\n",
       "      <td>1893800</td>\n",
       "      <td>3.360294</td>\n",
       "      <td>-0.005225</td>\n",
       "      <td>-0.001125</td>\n",
       "      <td>-0.000421</td>\n",
       "    </tr>\n",
       "  </tbody>\n",
       "</table>\n",
       "</div>"
      ],
      "text/plain": [
       "          Date  Bit_Price  Bit_Volume  PCG_Price  PCG_Volume  Duke_Price  \\\n",
       "902 2014-02-25      593.0      383571      43.79     3041900       71.03   \n",
       "\n",
       "     Duke_Vol  Dom_Price  Dom_Vol  Bitcoin_returns  PCG_returns  Duke_returns  \\\n",
       "902   2615100      71.26  1893800         3.360294    -0.005225     -0.001125   \n",
       "\n",
       "     Dom_returns  \n",
       "902    -0.000421  "
      ]
     },
     "execution_count": 79,
     "metadata": {},
     "output_type": "execute_result"
    }
   ],
   "source": [
    "#ID and info maximum return date\n",
    "merged_stocks[merged_stocks['Bitcoin_returns'] == merged_stocks['Bitcoin_returns'].max()]"
   ]
  },
  {
   "cell_type": "code",
   "execution_count": 80,
   "id": "precise-article",
   "metadata": {},
   "outputs": [
    {
     "data": {
      "text/plain": [
       "Date               2014-02-24 00:00:00\n",
       "Bit_Price                   136.000000\n",
       "Bit_Volume                     3993024\n",
       "PCG_Price                    44.020000\n",
       "PCG_Volume                     3065600\n",
       "Duke_Price                   71.110000\n",
       "Duke_Vol                       2522500\n",
       "Dom_Price                    71.290000\n",
       "Dom_Vol                        1514400\n",
       "Bitcoin_returns              -0.468750\n",
       "PCG_returns                   0.001821\n",
       "Duke_returns                 -0.005315\n",
       "Dom_returns                  -0.001401\n",
       "Name: 901, dtype: object"
      ]
     },
     "execution_count": 80,
     "metadata": {},
     "output_type": "execute_result"
    }
   ],
   "source": [
    "# info for a day earlier(id = 901)\n",
    "merged_stocks.loc[merged_stocks['Bitcoin_returns'].idxmax() - 1]"
   ]
  },
  {
   "cell_type": "code",
   "execution_count": 81,
   "id": "associate-communications",
   "metadata": {},
   "outputs": [
    {
     "data": {
      "text/plain": [
       "Date               2014-02-24 00:00:00\n",
       "Bit_Price                   136.000000\n",
       "Bit_Volume                     3993024\n",
       "PCG_Price                    44.020000\n",
       "PCG_Volume                     3065600\n",
       "Duke_Price                   71.110000\n",
       "Duke_Vol                       2522500\n",
       "Dom_Price                    71.290000\n",
       "Dom_Vol                        1514400\n",
       "Bitcoin_returns              -0.468750\n",
       "PCG_returns                   0.001821\n",
       "Duke_returns                 -0.005315\n",
       "Dom_returns                  -0.001401\n",
       "Name: 901, dtype: object"
      ]
     },
     "execution_count": 81,
     "metadata": {},
     "output_type": "execute_result"
    }
   ],
   "source": [
    "merged_stocks.loc[901]"
   ]
  },
  {
   "cell_type": "code",
   "execution_count": 82,
   "id": "downtown-contact",
   "metadata": {},
   "outputs": [
    {
     "name": "stdout",
     "output_type": "stream",
     "text": [
      "<class 'pandas.core.frame.DataFrame'>\n",
      "RangeIndex: 2524 entries, 0 to 2523\n",
      "Data columns (total 7 columns):\n",
      " #   Column     Non-Null Count  Dtype  \n",
      "---  ------     --------------  -----  \n",
      " 0   Date       2524 non-null   object \n",
      " 1   Open       2524 non-null   float64\n",
      " 2   High       2524 non-null   float64\n",
      " 3   Low        2524 non-null   float64\n",
      " 4   Close      2524 non-null   float64\n",
      " 5   Adj Close  2524 non-null   float64\n",
      " 6   Volume     2524 non-null   int64  \n",
      "dtypes: float64(5), int64(1), object(1)\n",
      "memory usage: 138.2+ KB\n"
     ]
    }
   ],
   "source": [
    "tesla_stock.info()"
   ]
  },
  {
   "cell_type": "code",
   "execution_count": 83,
   "id": "psychological-martin",
   "metadata": {},
   "outputs": [],
   "source": [
    "tesla_stock['Date']= pd.to_datetime(tesla_stock['Date'])"
   ]
  },
  {
   "cell_type": "code",
   "execution_count": 84,
   "id": "written-island",
   "metadata": {},
   "outputs": [
    {
     "data": {
      "text/html": [
       "<div>\n",
       "<style scoped>\n",
       "    .dataframe tbody tr th:only-of-type {\n",
       "        vertical-align: middle;\n",
       "    }\n",
       "\n",
       "    .dataframe tbody tr th {\n",
       "        vertical-align: top;\n",
       "    }\n",
       "\n",
       "    .dataframe thead th {\n",
       "        text-align: right;\n",
       "    }\n",
       "</style>\n",
       "<table border=\"1\" class=\"dataframe\">\n",
       "  <thead>\n",
       "    <tr style=\"text-align: right;\">\n",
       "      <th></th>\n",
       "      <th>Date</th>\n",
       "      <th>Open</th>\n",
       "      <th>High</th>\n",
       "      <th>Low</th>\n",
       "      <th>Close</th>\n",
       "      <th>Adj Close</th>\n",
       "      <th>Volume</th>\n",
       "    </tr>\n",
       "  </thead>\n",
       "  <tbody>\n",
       "    <tr>\n",
       "      <th>0</th>\n",
       "      <td>2011-02-01</td>\n",
       "      <td>4.862</td>\n",
       "      <td>4.946</td>\n",
       "      <td>4.708</td>\n",
       "      <td>4.782</td>\n",
       "      <td>4.782</td>\n",
       "      <td>3539000</td>\n",
       "    </tr>\n",
       "    <tr>\n",
       "      <th>1</th>\n",
       "      <td>2011-02-02</td>\n",
       "      <td>4.832</td>\n",
       "      <td>4.836</td>\n",
       "      <td>4.734</td>\n",
       "      <td>4.788</td>\n",
       "      <td>4.788</td>\n",
       "      <td>2847500</td>\n",
       "    </tr>\n",
       "    <tr>\n",
       "      <th>2</th>\n",
       "      <td>2011-02-03</td>\n",
       "      <td>4.764</td>\n",
       "      <td>4.780</td>\n",
       "      <td>4.630</td>\n",
       "      <td>4.726</td>\n",
       "      <td>4.726</td>\n",
       "      <td>2560000</td>\n",
       "    </tr>\n",
       "    <tr>\n",
       "      <th>3</th>\n",
       "      <td>2011-02-04</td>\n",
       "      <td>4.688</td>\n",
       "      <td>4.734</td>\n",
       "      <td>4.644</td>\n",
       "      <td>4.692</td>\n",
       "      <td>4.692</td>\n",
       "      <td>2720000</td>\n",
       "    </tr>\n",
       "    <tr>\n",
       "      <th>4</th>\n",
       "      <td>2011-02-07</td>\n",
       "      <td>4.652</td>\n",
       "      <td>4.652</td>\n",
       "      <td>4.576</td>\n",
       "      <td>4.614</td>\n",
       "      <td>4.614</td>\n",
       "      <td>4475500</td>\n",
       "    </tr>\n",
       "  </tbody>\n",
       "</table>\n",
       "</div>"
      ],
      "text/plain": [
       "        Date   Open   High    Low  Close  Adj Close   Volume\n",
       "0 2011-02-01  4.862  4.946  4.708  4.782      4.782  3539000\n",
       "1 2011-02-02  4.832  4.836  4.734  4.788      4.788  2847500\n",
       "2 2011-02-03  4.764  4.780  4.630  4.726      4.726  2560000\n",
       "3 2011-02-04  4.688  4.734  4.644  4.692      4.692  2720000\n",
       "4 2011-02-07  4.652  4.652  4.576  4.614      4.614  4475500"
      ]
     },
     "execution_count": 84,
     "metadata": {},
     "output_type": "execute_result"
    }
   ],
   "source": [
    "tesla_stock.head()"
   ]
  },
  {
   "cell_type": "code",
   "execution_count": 85,
   "id": "silver-island",
   "metadata": {},
   "outputs": [],
   "source": [
    "bitcoin_price['Date'] = pd.to_datetime(bitcoin_price['Date'])"
   ]
  },
  {
   "cell_type": "code",
   "execution_count": 86,
   "id": "monetary-plate",
   "metadata": {},
   "outputs": [],
   "source": [
    "tesla_bitcoin = pd.merge(tesla_stock, bitcoin_price, on = 'Date', how = 'outer' )"
   ]
  },
  {
   "cell_type": "code",
   "execution_count": 87,
   "id": "molecular-manner",
   "metadata": {},
   "outputs": [
    {
     "name": "stdout",
     "output_type": "stream",
     "text": [
      "<class 'pandas.core.frame.DataFrame'>\n",
      "Int64Index: 3859 entries, 0 to 3858\n",
      "Data columns (total 9 columns):\n",
      " #   Column      Non-Null Count  Dtype         \n",
      "---  ------      --------------  -----         \n",
      " 0   Date        3859 non-null   datetime64[ns]\n",
      " 1   Open        2524 non-null   float64       \n",
      " 2   High        2524 non-null   float64       \n",
      " 3   Low         2524 non-null   float64       \n",
      " 4   Close       2524 non-null   float64       \n",
      " 5   Adj Close   2524 non-null   float64       \n",
      " 6   Volume      2524 non-null   float64       \n",
      " 7   Bit_Price   3850 non-null   float64       \n",
      " 8   Bit_Volume  3850 non-null   float64       \n",
      "dtypes: datetime64[ns](1), float64(8)\n",
      "memory usage: 301.5 KB\n"
     ]
    }
   ],
   "source": [
    "tesla_bitcoin.info()"
   ]
  },
  {
   "cell_type": "code",
   "execution_count": 88,
   "id": "split-result",
   "metadata": {},
   "outputs": [
    {
     "data": {
      "text/html": [
       "<div>\n",
       "<style scoped>\n",
       "    .dataframe tbody tr th:only-of-type {\n",
       "        vertical-align: middle;\n",
       "    }\n",
       "\n",
       "    .dataframe tbody tr th {\n",
       "        vertical-align: top;\n",
       "    }\n",
       "\n",
       "    .dataframe thead th {\n",
       "        text-align: right;\n",
       "    }\n",
       "</style>\n",
       "<table border=\"1\" class=\"dataframe\">\n",
       "  <thead>\n",
       "    <tr style=\"text-align: right;\">\n",
       "      <th></th>\n",
       "      <th>Date</th>\n",
       "      <th>Open</th>\n",
       "      <th>High</th>\n",
       "      <th>Low</th>\n",
       "      <th>Close</th>\n",
       "      <th>Adj Close</th>\n",
       "      <th>Volume</th>\n",
       "      <th>Bit_Price</th>\n",
       "      <th>Bit_Volume</th>\n",
       "    </tr>\n",
       "  </thead>\n",
       "  <tbody>\n",
       "    <tr>\n",
       "      <th>0</th>\n",
       "      <td>2011-02-01</td>\n",
       "      <td>4.862000</td>\n",
       "      <td>4.946000</td>\n",
       "      <td>4.708000</td>\n",
       "      <td>4.782000</td>\n",
       "      <td>4.782000</td>\n",
       "      <td>3539000.0</td>\n",
       "      <td>1.0</td>\n",
       "      <td>4.126000e+03</td>\n",
       "    </tr>\n",
       "    <tr>\n",
       "      <th>1</th>\n",
       "      <td>2011-02-02</td>\n",
       "      <td>4.832000</td>\n",
       "      <td>4.836000</td>\n",
       "      <td>4.734000</td>\n",
       "      <td>4.788000</td>\n",
       "      <td>4.788000</td>\n",
       "      <td>2847500.0</td>\n",
       "      <td>1.0</td>\n",
       "      <td>6.064000e+03</td>\n",
       "    </tr>\n",
       "    <tr>\n",
       "      <th>2</th>\n",
       "      <td>2011-02-03</td>\n",
       "      <td>4.764000</td>\n",
       "      <td>4.780000</td>\n",
       "      <td>4.630000</td>\n",
       "      <td>4.726000</td>\n",
       "      <td>4.726000</td>\n",
       "      <td>2560000.0</td>\n",
       "      <td>1.0</td>\n",
       "      <td>3.396600e+04</td>\n",
       "    </tr>\n",
       "    <tr>\n",
       "      <th>3</th>\n",
       "      <td>2011-02-04</td>\n",
       "      <td>4.688000</td>\n",
       "      <td>4.734000</td>\n",
       "      <td>4.644000</td>\n",
       "      <td>4.692000</td>\n",
       "      <td>4.692000</td>\n",
       "      <td>2720000.0</td>\n",
       "      <td>1.0</td>\n",
       "      <td>1.363400e+04</td>\n",
       "    </tr>\n",
       "    <tr>\n",
       "      <th>4</th>\n",
       "      <td>2011-02-07</td>\n",
       "      <td>4.652000</td>\n",
       "      <td>4.652000</td>\n",
       "      <td>4.576000</td>\n",
       "      <td>4.614000</td>\n",
       "      <td>4.614000</td>\n",
       "      <td>4475500.0</td>\n",
       "      <td>1.0</td>\n",
       "      <td>6.307000e+03</td>\n",
       "    </tr>\n",
       "    <tr>\n",
       "      <th>...</th>\n",
       "      <td>...</td>\n",
       "      <td>...</td>\n",
       "      <td>...</td>\n",
       "      <td>...</td>\n",
       "      <td>...</td>\n",
       "      <td>...</td>\n",
       "      <td>...</td>\n",
       "      <td>...</td>\n",
       "      <td>...</td>\n",
       "    </tr>\n",
       "    <tr>\n",
       "      <th>2515</th>\n",
       "      <td>2021-01-29</td>\n",
       "      <td>830.000000</td>\n",
       "      <td>842.409973</td>\n",
       "      <td>780.099976</td>\n",
       "      <td>793.530029</td>\n",
       "      <td>793.530029</td>\n",
       "      <td>34990800.0</td>\n",
       "      <td>34318.0</td>\n",
       "      <td>1.574214e+09</td>\n",
       "    </tr>\n",
       "    <tr>\n",
       "      <th>2516</th>\n",
       "      <td>2021-02-01</td>\n",
       "      <td>814.289978</td>\n",
       "      <td>842.000000</td>\n",
       "      <td>795.559998</td>\n",
       "      <td>839.809998</td>\n",
       "      <td>839.809998</td>\n",
       "      <td>25391400.0</td>\n",
       "      <td>35524.0</td>\n",
       "      <td>1.789699e+09</td>\n",
       "    </tr>\n",
       "    <tr>\n",
       "      <th>2517</th>\n",
       "      <td>2021-02-02</td>\n",
       "      <td>844.679993</td>\n",
       "      <td>880.500000</td>\n",
       "      <td>842.200012</td>\n",
       "      <td>872.789978</td>\n",
       "      <td>872.789978</td>\n",
       "      <td>24346200.0</td>\n",
       "      <td>37677.0</td>\n",
       "      <td>2.340630e+09</td>\n",
       "    </tr>\n",
       "    <tr>\n",
       "      <th>2518</th>\n",
       "      <td>2021-02-03</td>\n",
       "      <td>877.020020</td>\n",
       "      <td>878.080017</td>\n",
       "      <td>853.059998</td>\n",
       "      <td>854.690002</td>\n",
       "      <td>854.690002</td>\n",
       "      <td>18343500.0</td>\n",
       "      <td>36983.0</td>\n",
       "      <td>2.767003e+09</td>\n",
       "    </tr>\n",
       "    <tr>\n",
       "      <th>2519</th>\n",
       "      <td>2021-02-04</td>\n",
       "      <td>855.000000</td>\n",
       "      <td>856.500000</td>\n",
       "      <td>833.419983</td>\n",
       "      <td>849.989990</td>\n",
       "      <td>849.989990</td>\n",
       "      <td>15812700.0</td>\n",
       "      <td>36981.0</td>\n",
       "      <td>9.692893e+07</td>\n",
       "    </tr>\n",
       "  </tbody>\n",
       "</table>\n",
       "<p>2515 rows × 9 columns</p>\n",
       "</div>"
      ],
      "text/plain": [
       "           Date        Open        High         Low       Close   Adj Close  \\\n",
       "0    2011-02-01    4.862000    4.946000    4.708000    4.782000    4.782000   \n",
       "1    2011-02-02    4.832000    4.836000    4.734000    4.788000    4.788000   \n",
       "2    2011-02-03    4.764000    4.780000    4.630000    4.726000    4.726000   \n",
       "3    2011-02-04    4.688000    4.734000    4.644000    4.692000    4.692000   \n",
       "4    2011-02-07    4.652000    4.652000    4.576000    4.614000    4.614000   \n",
       "...         ...         ...         ...         ...         ...         ...   \n",
       "2515 2021-01-29  830.000000  842.409973  780.099976  793.530029  793.530029   \n",
       "2516 2021-02-01  814.289978  842.000000  795.559998  839.809998  839.809998   \n",
       "2517 2021-02-02  844.679993  880.500000  842.200012  872.789978  872.789978   \n",
       "2518 2021-02-03  877.020020  878.080017  853.059998  854.690002  854.690002   \n",
       "2519 2021-02-04  855.000000  856.500000  833.419983  849.989990  849.989990   \n",
       "\n",
       "          Volume  Bit_Price    Bit_Volume  \n",
       "0      3539000.0        1.0  4.126000e+03  \n",
       "1      2847500.0        1.0  6.064000e+03  \n",
       "2      2560000.0        1.0  3.396600e+04  \n",
       "3      2720000.0        1.0  1.363400e+04  \n",
       "4      4475500.0        1.0  6.307000e+03  \n",
       "...          ...        ...           ...  \n",
       "2515  34990800.0    34318.0  1.574214e+09  \n",
       "2516  25391400.0    35524.0  1.789699e+09  \n",
       "2517  24346200.0    37677.0  2.340630e+09  \n",
       "2518  18343500.0    36983.0  2.767003e+09  \n",
       "2519  15812700.0    36981.0  9.692893e+07  \n",
       "\n",
       "[2515 rows x 9 columns]"
      ]
     },
     "execution_count": 88,
     "metadata": {},
     "output_type": "execute_result"
    }
   ],
   "source": [
    "tesla_bitcoin.dropna()"
   ]
  },
  {
   "cell_type": "code",
   "execution_count": 100,
   "id": "labeled-indication",
   "metadata": {},
   "outputs": [],
   "source": [
    "tesla_bitcoin = tesla_bitcoin.rename(columns = {'Close' : 'Tesla Price'})"
   ]
  },
  {
   "cell_type": "code",
   "execution_count": 101,
   "id": "premier-brook",
   "metadata": {},
   "outputs": [
    {
     "data": {
      "text/html": [
       "<div>\n",
       "<style scoped>\n",
       "    .dataframe tbody tr th:only-of-type {\n",
       "        vertical-align: middle;\n",
       "    }\n",
       "\n",
       "    .dataframe tbody tr th {\n",
       "        vertical-align: top;\n",
       "    }\n",
       "\n",
       "    .dataframe thead th {\n",
       "        text-align: right;\n",
       "    }\n",
       "</style>\n",
       "<table border=\"1\" class=\"dataframe\">\n",
       "  <thead>\n",
       "    <tr style=\"text-align: right;\">\n",
       "      <th></th>\n",
       "      <th>Date</th>\n",
       "      <th>Open</th>\n",
       "      <th>High</th>\n",
       "      <th>Low</th>\n",
       "      <th>Tesla Price</th>\n",
       "      <th>Adj Close</th>\n",
       "      <th>Volume</th>\n",
       "      <th>Bit_Price</th>\n",
       "      <th>Bit_Volume</th>\n",
       "    </tr>\n",
       "  </thead>\n",
       "  <tbody>\n",
       "    <tr>\n",
       "      <th>0</th>\n",
       "      <td>2011-02-01</td>\n",
       "      <td>4.862</td>\n",
       "      <td>4.946</td>\n",
       "      <td>4.708</td>\n",
       "      <td>4.782</td>\n",
       "      <td>4.782</td>\n",
       "      <td>3539000.0</td>\n",
       "      <td>1.0</td>\n",
       "      <td>4126.0</td>\n",
       "    </tr>\n",
       "    <tr>\n",
       "      <th>1</th>\n",
       "      <td>2011-02-02</td>\n",
       "      <td>4.832</td>\n",
       "      <td>4.836</td>\n",
       "      <td>4.734</td>\n",
       "      <td>4.788</td>\n",
       "      <td>4.788</td>\n",
       "      <td>2847500.0</td>\n",
       "      <td>1.0</td>\n",
       "      <td>6064.0</td>\n",
       "    </tr>\n",
       "    <tr>\n",
       "      <th>2</th>\n",
       "      <td>2011-02-03</td>\n",
       "      <td>4.764</td>\n",
       "      <td>4.780</td>\n",
       "      <td>4.630</td>\n",
       "      <td>4.726</td>\n",
       "      <td>4.726</td>\n",
       "      <td>2560000.0</td>\n",
       "      <td>1.0</td>\n",
       "      <td>33966.0</td>\n",
       "    </tr>\n",
       "    <tr>\n",
       "      <th>3</th>\n",
       "      <td>2011-02-04</td>\n",
       "      <td>4.688</td>\n",
       "      <td>4.734</td>\n",
       "      <td>4.644</td>\n",
       "      <td>4.692</td>\n",
       "      <td>4.692</td>\n",
       "      <td>2720000.0</td>\n",
       "      <td>1.0</td>\n",
       "      <td>13634.0</td>\n",
       "    </tr>\n",
       "    <tr>\n",
       "      <th>4</th>\n",
       "      <td>2011-02-07</td>\n",
       "      <td>4.652</td>\n",
       "      <td>4.652</td>\n",
       "      <td>4.576</td>\n",
       "      <td>4.614</td>\n",
       "      <td>4.614</td>\n",
       "      <td>4475500.0</td>\n",
       "      <td>1.0</td>\n",
       "      <td>6307.0</td>\n",
       "    </tr>\n",
       "  </tbody>\n",
       "</table>\n",
       "</div>"
      ],
      "text/plain": [
       "        Date   Open   High    Low  Tesla Price  Adj Close     Volume  \\\n",
       "0 2011-02-01  4.862  4.946  4.708        4.782      4.782  3539000.0   \n",
       "1 2011-02-02  4.832  4.836  4.734        4.788      4.788  2847500.0   \n",
       "2 2011-02-03  4.764  4.780  4.630        4.726      4.726  2560000.0   \n",
       "3 2011-02-04  4.688  4.734  4.644        4.692      4.692  2720000.0   \n",
       "4 2011-02-07  4.652  4.652  4.576        4.614      4.614  4475500.0   \n",
       "\n",
       "   Bit_Price  Bit_Volume  \n",
       "0        1.0      4126.0  \n",
       "1        1.0      6064.0  \n",
       "2        1.0     33966.0  \n",
       "3        1.0     13634.0  \n",
       "4        1.0      6307.0  "
      ]
     },
     "execution_count": 101,
     "metadata": {},
     "output_type": "execute_result"
    }
   ],
   "source": [
    "tesla_bitcoin.head()"
   ]
  },
  {
   "cell_type": "code",
   "execution_count": 102,
   "id": "negative-prague",
   "metadata": {},
   "outputs": [],
   "source": [
    "tescoin = tesla_bitcoin[['Bit_Price', 'Tesla Price']]"
   ]
  },
  {
   "cell_type": "code",
   "execution_count": 103,
   "id": "floating-terminal",
   "metadata": {},
   "outputs": [
    {
     "data": {
      "text/html": [
       "<div>\n",
       "<style scoped>\n",
       "    .dataframe tbody tr th:only-of-type {\n",
       "        vertical-align: middle;\n",
       "    }\n",
       "\n",
       "    .dataframe tbody tr th {\n",
       "        vertical-align: top;\n",
       "    }\n",
       "\n",
       "    .dataframe thead th {\n",
       "        text-align: right;\n",
       "    }\n",
       "</style>\n",
       "<table border=\"1\" class=\"dataframe\">\n",
       "  <thead>\n",
       "    <tr style=\"text-align: right;\">\n",
       "      <th></th>\n",
       "      <th>Bit_Price</th>\n",
       "      <th>Tesla Price</th>\n",
       "    </tr>\n",
       "  </thead>\n",
       "  <tbody>\n",
       "    <tr>\n",
       "      <th>Bit_Price</th>\n",
       "      <td>1.00000</td>\n",
       "      <td>0.81634</td>\n",
       "    </tr>\n",
       "    <tr>\n",
       "      <th>Tesla Price</th>\n",
       "      <td>0.81634</td>\n",
       "      <td>1.00000</td>\n",
       "    </tr>\n",
       "  </tbody>\n",
       "</table>\n",
       "</div>"
      ],
      "text/plain": [
       "             Bit_Price  Tesla Price\n",
       "Bit_Price      1.00000      0.81634\n",
       "Tesla Price    0.81634      1.00000"
      ]
     },
     "execution_count": 103,
     "metadata": {},
     "output_type": "execute_result"
    }
   ],
   "source": [
    "tescoin.corr()"
   ]
  },
  {
   "cell_type": "code",
   "execution_count": null,
   "id": "african-immune",
   "metadata": {},
   "outputs": [],
   "source": []
  }
 ],
 "metadata": {
  "kernelspec": {
   "display_name": "Python 3",
   "language": "python",
   "name": "python3"
  },
  "language_info": {
   "codemirror_mode": {
    "name": "ipython",
    "version": 3
   },
   "file_extension": ".py",
   "mimetype": "text/x-python",
   "name": "python",
   "nbconvert_exporter": "python",
   "pygments_lexer": "ipython3",
   "version": "3.8.5"
  }
 },
 "nbformat": 4,
 "nbformat_minor": 5
}
